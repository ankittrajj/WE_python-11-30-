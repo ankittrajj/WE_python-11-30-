{
 "cells": [
  {
   "cell_type": "code",
   "execution_count": 1,
   "id": "9d7cf7d2",
   "metadata": {},
   "outputs": [
    {
     "ename": "SyntaxError",
     "evalue": "invalid syntax (Temp/ipykernel_6380/1177184379.py, line 19)",
     "output_type": "error",
     "traceback": [
      "\u001b[1;36m  File \u001b[1;32m\"C:\\Users\\ddugky\\AppData\\Local\\Temp/ipykernel_6380/1177184379.py\"\u001b[1;36m, line \u001b[1;32m19\u001b[0m\n\u001b[1;33m    annual_income_o=annual_income-0.03annual_income\u001b[0m\n\u001b[1;37m                                      ^\u001b[0m\n\u001b[1;31mSyntaxError\u001b[0m\u001b[1;31m:\u001b[0m invalid syntax\n"
     ]
    }
   ],
   "source": [
    "#wap and  make a class of emp having the properties of\n",
    "# name age and monthly salary and also try to calculate the \n",
    "# annual income.\n",
    "\n",
    "# condition----> if your emp take more than 12 holidays\n",
    "# then salary is annual salary is reduce to 3 %\n",
    "\n",
    "#if emp take no holiday then he will get 5% extra on his salary.\n",
    "\n",
    "class employee:\n",
    "    def annual_income_o(self):\n",
    "        name=\"xyz\"\n",
    "        age=28\n",
    "        m_salary=250000\n",
    "        annual_income= m_salary*12\n",
    "        no_of_holidays=10\n",
    "        if no_of_holidays>12:\n",
    "            annual_income_o=annual_income-0.03annual_income\n",
    "        else:\n",
    "            annual_income_o=annual_income+0.05annual_income\n",
    "p=employee()\n",
    "p.annual_income_o()\n",
    "\n",
    "    "
   ]
  },
  {
   "cell_type": "code",
   "execution_count": 5,
   "id": "12952ae0",
   "metadata": {},
   "outputs": [
    {
     "name": "stdout",
     "output_type": "stream",
     "text": [
      "240000\n",
      "12000.0\n",
      "Salary without holidays 252000.0\n"
     ]
    }
   ],
   "source": [
    "#wap and  make a class of emp having the properties of\n",
    "# name age and monthly salary and also try to calculate the \n",
    "# annual income.\n",
    "\n",
    "# condition----> if your emp take more than 12 holidays\n",
    "# then  annual salary is reduce to 3 %\n",
    "\n",
    "#if emp take no holiday then he will get 5% extra on his salary.\n",
    "class emp:\n",
    "    def emp_details(self):\n",
    "        name = 'abc'\n",
    "        age=23\n",
    "        m_sal = 20000\n",
    "        a_sal = m_sal*12\n",
    "        print(a_sal)\n",
    "        holiday = 0\n",
    "        if holiday>12:\n",
    "            red_sal = (a_sal*3)/100\n",
    "            print(red_sal)\n",
    "            print(\"Recieve sal = \",a_sal-red_sal)\n",
    "        elif holiday==0:\n",
    "            bonus = (a_sal*5)/100\n",
    "            print(bonus)\n",
    "            print(\"Salary without holidays\",a_sal+bonus)\n",
    "            \n",
    "            \n",
    "        \n",
    "e = emp()\n",
    "e.emp_details()\n",
    "        "
   ]
  },
  {
   "cell_type": "code",
   "execution_count": 11,
   "id": "404a68cd",
   "metadata": {},
   "outputs": [
    {
     "name": "stdout",
     "output_type": "stream",
     "text": [
      "300000\n",
      "please give the number of holidays more than 12 or equal to 0\n"
     ]
    }
   ],
   "source": [
    "class employee:\n",
    "    def emp_details(self):\n",
    "        name=\"xyz\"\n",
    "        age=28\n",
    "        m_salary=25000\n",
    "        annual_income= m_salary*12\n",
    "        print(annual_income)\n",
    "        no_of_holidays=10\n",
    "        if no_of_holidays>12:\n",
    "            print(\"annual_income_o---\",annual_income-0.03*annual_income)\n",
    "        elif no_of_holidays==0:\n",
    "            print(\"annual_income_o---\",annual_income+0.05*annual_income)\n",
    "        else:\n",
    "            print(\"please give the number of holidays more than 12 or equal to 0\")\n",
    "p=employee()\n",
    "p.emp_details()\n"
   ]
  },
  {
   "cell_type": "code",
   "execution_count": 13,
   "id": "904496de",
   "metadata": {},
   "outputs": [
    {
     "data": {
      "text/plain": [
       "'abc'"
      ]
     },
     "execution_count": 13,
     "metadata": {},
     "output_type": "execute_result"
    }
   ],
   "source": [
    "#fucntion\n",
    "# constructor\n",
    "\n",
    "class student:\n",
    "#     constructor\n",
    "    def __init__(self,name,age,marks):\n",
    "        self.name=name\n",
    "        self.age=age\n",
    "        self.marks=marks\n",
    "        \n",
    "s = student('abc',23,90)\n",
    "s.name"
   ]
  },
  {
   "cell_type": "code",
   "execution_count": 14,
   "id": "b80a6a2a",
   "metadata": {},
   "outputs": [
    {
     "data": {
      "text/plain": [
       "20.0"
      ]
     },
     "execution_count": 14,
     "metadata": {},
     "output_type": "execute_result"
    }
   ],
   "source": [
    "#wap to claculate the average age of 5 student with the help of \n",
    "# constructor.\n",
    "class students:\n",
    "    def __init__(self,age1,age2,age3,age4,age5):\n",
    "        self.age1=age1\n",
    "        self.age2=age2\n",
    "        self.age3=age3\n",
    "        self.age4=age4\n",
    "        self.age5=age5\n",
    "        average= (age1+age2+age3+age4+age5)/5\n",
    "        self.average=average\n",
    "s=students(15,16,19,24,26)\n",
    "s.average\n"
   ]
  },
  {
   "cell_type": "code",
   "execution_count": 19,
   "id": "6657d33d",
   "metadata": {},
   "outputs": [
    {
     "name": "stdout",
     "output_type": "stream",
     "text": [
      "annual_income--- 315000.0\n"
     ]
    },
    {
     "ename": "NameError",
     "evalue": "name 'annual_income' is not defined",
     "output_type": "error",
     "traceback": [
      "\u001b[1;31m---------------------------------------------------------------------------\u001b[0m",
      "\u001b[1;31mNameError\u001b[0m                                 Traceback (most recent call last)",
      "\u001b[1;32m~\\AppData\\Local\\Temp/ipykernel_6380/435907604.py\u001b[0m in \u001b[0;36m<module>\u001b[1;34m\u001b[0m\n\u001b[0;32m     13\u001b[0m             \u001b[0mprint\u001b[0m\u001b[1;33m(\u001b[0m\u001b[1;34m\"error:give no_of_holidays more than 12 or 0\"\u001b[0m\u001b[1;33m)\u001b[0m\u001b[1;33m\u001b[0m\u001b[1;33m\u001b[0m\u001b[0m\n\u001b[0;32m     14\u001b[0m \u001b[0ms\u001b[0m\u001b[1;33m=\u001b[0m\u001b[0memployee\u001b[0m\u001b[1;33m(\u001b[0m\u001b[1;34m\"xyz\"\u001b[0m\u001b[1;33m,\u001b[0m\u001b[1;36m24\u001b[0m\u001b[1;33m,\u001b[0m\u001b[1;36m25000\u001b[0m\u001b[1;33m,\u001b[0m\u001b[1;36m0\u001b[0m\u001b[1;33m)\u001b[0m\u001b[1;33m\u001b[0m\u001b[1;33m\u001b[0m\u001b[0m\n\u001b[1;32m---> 15\u001b[1;33m \u001b[0mprint\u001b[0m\u001b[1;33m(\u001b[0m\u001b[0mannual_income\u001b[0m\u001b[1;33m)\u001b[0m\u001b[1;33m\u001b[0m\u001b[1;33m\u001b[0m\u001b[0m\n\u001b[0m\u001b[0;32m     16\u001b[0m \u001b[1;31m# s.annual_income\u001b[0m\u001b[1;33m\u001b[0m\u001b[1;33m\u001b[0m\u001b[0m\n",
      "\u001b[1;31mNameError\u001b[0m: name 'annual_income' is not defined"
     ]
    }
   ],
   "source": [
    "class employee:\n",
    "    def __init__(self,name,age,monthly_salary,no_of_holidays):\n",
    "        self.name=name\n",
    "        self.age=age\n",
    "        self.monthly_salary=monthly_salary\n",
    "        self.no_of_holidays=no_of_holidays\n",
    "        annual_income=monthly_salary*12\n",
    "        if no_of_holidays>12:\n",
    "            print(\"annual_income---\",annual_income-0.03*annual_income)\n",
    "        elif no_of_holidays==0:\n",
    "            print(\"annual_income---\",annual_income+0.05*annual_income)\n",
    "        else:\n",
    "            print(\"error:give no_of_holidays more than 12 or 0\")\n",
    "s=employee(\"xyz\",24,25000,0)\n",
    "# s.annual_income       \n"
   ]
  },
  {
   "cell_type": "code",
   "execution_count": 18,
   "id": "f4c9da61",
   "metadata": {},
   "outputs": [
    {
     "data": {
      "text/plain": [
       "2400"
      ]
     },
     "execution_count": 18,
     "metadata": {},
     "output_type": "execute_result"
    }
   ],
   "source": [
    "class emp:\n",
    "    def __init__(self,name,age,monthly_salary,no_of_holidays):\n",
    "        self.name=name\n",
    "        self.age=age\n",
    "        self.monthly_salary=monthly_salary\n",
    "        self.no_of_holidays=no_of_holidays\n",
    "        \n",
    "    def a_sal(self):\n",
    "        annual_sal = self.monthly_salary*12\n",
    "        return(annual_sal)\n",
    "\n",
    "e = emp('a',12,200,12)\n",
    "e.a_sal()\n",
    "        \n",
    "        "
   ]
  },
  {
   "cell_type": "code",
   "execution_count": 27,
   "id": "e8416dfc",
   "metadata": {},
   "outputs": [],
   "source": [
    "#inheritance----> to accqire the property of different class.\n",
    "class std1:\n",
    "    def __init__(self,name,age):\n",
    "        self.name = name\n",
    "        self.age = age\n",
    "        \n",
    "class std2(std1):\n",
    "    def __init__(self,name,age,marks):\n",
    "        std1.__init__(self,name,age)\n",
    "        self.marks = marks\n",
    "        \n",
    "\n",
    "\n",
    "s = std2('a',34,45)"
   ]
  },
  {
   "cell_type": "code",
   "execution_count": 28,
   "id": "038e614c",
   "metadata": {},
   "outputs": [
    {
     "data": {
      "text/plain": [
       "'a'"
      ]
     },
     "execution_count": 28,
     "metadata": {},
     "output_type": "execute_result"
    }
   ],
   "source": [
    "s.name"
   ]
  },
  {
   "cell_type": "code",
   "execution_count": 29,
   "id": "af8068a3",
   "metadata": {},
   "outputs": [
    {
     "data": {
      "text/plain": [
       "34"
      ]
     },
     "execution_count": 29,
     "metadata": {},
     "output_type": "execute_result"
    }
   ],
   "source": [
    "s.age"
   ]
  },
  {
   "cell_type": "code",
   "execution_count": 36,
   "id": "b0ce3572",
   "metadata": {},
   "outputs": [
    {
     "data": {
      "text/plain": [
       "'a'"
      ]
     },
     "execution_count": 36,
     "metadata": {},
     "output_type": "execute_result"
    }
   ],
   "source": [
    "class std1:\n",
    "    def __init__(self,name,age):\n",
    "        self.name = name\n",
    "        self.age = age\n",
    "        \n",
    "class std2(std1):\n",
    "    def __init__(self,name,age,marks):\n",
    "        super().__init__(name,age)\n",
    "        self.marks = marks\n",
    "        \n",
    "\n",
    "\n",
    "s = std2('a',34,45)\n",
    "s.name"
   ]
  },
  {
   "cell_type": "code",
   "execution_count": 33,
   "id": "5475edd8",
   "metadata": {},
   "outputs": [
    {
     "name": "stdout",
     "output_type": "stream",
     "text": [
      "annual_income--- 291000.0\n"
     ]
    }
   ],
   "source": [
    "class employee:\n",
    "    def __init__(self,name,age,monthly_salary,no_of_holidays):\n",
    "        self.name=name\n",
    "        self.age=age\n",
    "        self.monthly_salary=monthly_salary\n",
    "        self.no_of_holidays=no_of_holidays\n",
    "        \n",
    "    def a_sal(self):\n",
    "        annual_income=self.monthly_salary*12\n",
    "        if self.no_of_holidays>12:\n",
    "            print(\"annual_income---\",annual_income-0.03*annual_income)\n",
    "        elif no_of_holidays==0:\n",
    "            print(\"annual_income---\",annual_income+0.05*annual_income)\n",
    "        else:\n",
    "            print(\"error:give no_of_holidays more than 12 or 0\")\n",
    "e= employee(\"a\",28,25000,13)\n",
    "e.a_sal()\n"
   ]
  },
  {
   "cell_type": "code",
   "execution_count": null,
   "id": "45fb7255",
   "metadata": {},
   "outputs": [],
   "source": [
    "#wap and make a class of automobile and truck and try to inherit \n",
    "# some common properties from the parent class."
   ]
  }
 ],
 "metadata": {
  "kernelspec": {
   "display_name": "Python 3 (ipykernel)",
   "language": "python",
   "name": "python3"
  },
  "language_info": {
   "codemirror_mode": {
    "name": "ipython",
    "version": 3
   },
   "file_extension": ".py",
   "mimetype": "text/x-python",
   "name": "python",
   "nbconvert_exporter": "python",
   "pygments_lexer": "ipython3",
   "version": "3.9.7"
  }
 },
 "nbformat": 4,
 "nbformat_minor": 5
}
