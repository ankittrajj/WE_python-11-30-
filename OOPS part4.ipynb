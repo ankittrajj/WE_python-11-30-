{
 "cells": [
  {
   "cell_type": "code",
   "execution_count": 2,
   "id": "ae6b2d0b",
   "metadata": {},
   "outputs": [
    {
     "ename": "TypeError",
     "evalue": "__init__() takes 5 positional arguments but 7 were given",
     "output_type": "error",
     "traceback": [
      "\u001b[1;31m---------------------------------------------------------------------------\u001b[0m",
      "\u001b[1;31mTypeError\u001b[0m                                 Traceback (most recent call last)",
      "\u001b[1;32m~\\AppData\\Local\\Temp/ipykernel_3736/1111288094.py\u001b[0m in \u001b[0;36m<module>\u001b[1;34m\u001b[0m\n\u001b[0;32m     33\u001b[0m             \u001b[0mprint\u001b[0m\u001b[1;33m(\u001b[0m\u001b[1;34m\"not similar\"\u001b[0m\u001b[1;33m)\u001b[0m\u001b[1;33m\u001b[0m\u001b[1;33m\u001b[0m\u001b[0m\n\u001b[0;32m     34\u001b[0m \u001b[1;33m\u001b[0m\u001b[0m\n\u001b[1;32m---> 35\u001b[1;33m \u001b[0mz\u001b[0m \u001b[1;33m=\u001b[0m \u001b[0msquare\u001b[0m\u001b[1;33m(\u001b[0m\u001b[1;36m24\u001b[0m\u001b[1;33m,\u001b[0m\u001b[1;36m34\u001b[0m\u001b[1;33m,\u001b[0m\u001b[1;36m26\u001b[0m\u001b[1;33m,\u001b[0m\u001b[1;36m45\u001b[0m\u001b[1;33m,\u001b[0m\u001b[1;36m54\u001b[0m\u001b[1;33m,\u001b[0m\u001b[1;36m25\u001b[0m\u001b[1;33m)\u001b[0m\u001b[1;33m\u001b[0m\u001b[1;33m\u001b[0m\u001b[0m\n\u001b[0m\u001b[0;32m     36\u001b[0m \u001b[0mz\u001b[0m\u001b[1;33m.\u001b[0m\u001b[0marea_S\u001b[0m\u001b[1;33m(\u001b[0m\u001b[1;33m)\u001b[0m\u001b[1;33m\u001b[0m\u001b[1;33m\u001b[0m\u001b[0m\n",
      "\u001b[1;31mTypeError\u001b[0m: __init__() takes 5 positional arguments but 7 were given"
     ]
    }
   ],
   "source": [
    "# wap to calculate the area of two rectangles and square and try to take \n",
    "# some common dimensions by which we can perform inheritance and also try\n",
    "# to get the output of these classes and try to find rectangle is similar\n",
    "# to square or not.\n",
    "\n",
    "\n",
    "class rectangle1:\n",
    "    def __init__(self,dim_x,dim_y):\n",
    "        self.dim_x=dim_x\n",
    "        self.dim_y=dim_y\n",
    "    def area_R1(self):\n",
    "        area_R1=(self.dim_x*self.dim_y)\n",
    "        \n",
    "class rectangle2(rectangle1):\n",
    "    def __init__(self,area_R1,dim_a,dim_b):\n",
    "        super().__init__(area_R1)\n",
    "        self.dim_a=dim_a\n",
    "        self.dim_b=dim_b\n",
    "    def area_R2(self):\n",
    "        area_R2=(self.dim_a*self.dim_b)\n",
    "        \n",
    "class square(rectangle2):\n",
    "    def __init__(self,area_R1,area_R2,dim_c,dim_d):\n",
    "        super().__init__(area_R1,area_R2)\n",
    "        self.dim_c=dim_c\n",
    "        self.dim_d=dim_d\n",
    "    def area_S(self):\n",
    "        area_S=(self.dim_c*self.dim_d)\n",
    "        \n",
    "        if area_S==area_R1 and area_S==area_R2:\n",
    "            print(\"similar\")\n",
    "        elif area_S!=area_R1 and area_S!=area_R2:\n",
    "            print(\"not similar\")\n",
    "            \n",
    "z = square(24,34,26,45,54,25)\n",
    "z.area_S()\n"
   ]
  },
  {
   "cell_type": "code",
   "execution_count": 11,
   "id": "2afd5766",
   "metadata": {},
   "outputs": [
    {
     "name": "stdout",
     "output_type": "stream",
     "text": [
      "Area of first rectangle= 6 Area of second rectangle= 36\n",
      "Area of sq1= 4\n",
      "Area of sq2= 9\n"
     ]
    },
    {
     "ename": "AttributeError",
     "evalue": "'square2' object has no attribute 'dim'",
     "output_type": "error",
     "traceback": [
      "\u001b[1;31m---------------------------------------------------------------------------\u001b[0m",
      "\u001b[1;31mAttributeError\u001b[0m                            Traceback (most recent call last)",
      "\u001b[1;32m~\\AppData\\Local\\Temp/ipykernel_3736/1221535418.py\u001b[0m in \u001b[0;36m<module>\u001b[1;34m\u001b[0m\n\u001b[0;32m     47\u001b[0m \u001b[0ms\u001b[0m\u001b[1;33m=\u001b[0m\u001b[0msquare2\u001b[0m\u001b[1;33m(\u001b[0m\u001b[1;36m2\u001b[0m\u001b[1;33m,\u001b[0m\u001b[1;36m3\u001b[0m\u001b[1;33m)\u001b[0m\u001b[1;33m\u001b[0m\u001b[1;33m\u001b[0m\u001b[0m\n\u001b[0;32m     48\u001b[0m \u001b[0ms\u001b[0m\u001b[1;33m.\u001b[0m\u001b[0marea_of_square\u001b[0m\u001b[1;33m(\u001b[0m\u001b[1;33m)\u001b[0m\u001b[1;33m\u001b[0m\u001b[1;33m\u001b[0m\u001b[0m\n\u001b[1;32m---> 49\u001b[1;33m \u001b[0ms\u001b[0m\u001b[1;33m.\u001b[0m\u001b[0mfun\u001b[0m\u001b[1;33m(\u001b[0m\u001b[1;33m)\u001b[0m\u001b[1;33m\u001b[0m\u001b[1;33m\u001b[0m\u001b[0m\n\u001b[0m",
      "\u001b[1;32m~\\AppData\\Local\\Temp/ipykernel_3736/1221535418.py\u001b[0m in \u001b[0;36mfun\u001b[1;34m(self)\u001b[0m\n\u001b[0;32m     36\u001b[0m \u001b[1;33m\u001b[0m\u001b[0m\n\u001b[0;32m     37\u001b[0m     \u001b[1;32mdef\u001b[0m \u001b[0mfun\u001b[0m\u001b[1;33m(\u001b[0m\u001b[0mself\u001b[0m\u001b[1;33m)\u001b[0m\u001b[1;33m:\u001b[0m\u001b[1;33m\u001b[0m\u001b[1;33m\u001b[0m\u001b[0m\n\u001b[1;32m---> 38\u001b[1;33m         \u001b[1;32mif\u001b[0m \u001b[0mself\u001b[0m\u001b[1;33m.\u001b[0m\u001b[0mdim\u001b[0m \u001b[1;33m==\u001b[0m \u001b[0mself\u001b[0m\u001b[1;33m.\u001b[0m\u001b[0marea_of_square\u001b[0m\u001b[1;33m:\u001b[0m\u001b[1;33m\u001b[0m\u001b[1;33m\u001b[0m\u001b[0m\n\u001b[0m\u001b[0;32m     39\u001b[0m             \u001b[0mprint\u001b[0m\u001b[1;33m(\u001b[0m\u001b[1;34m\"SQ & rec are same\"\u001b[0m\u001b[1;33m)\u001b[0m\u001b[1;33m\u001b[0m\u001b[1;33m\u001b[0m\u001b[0m\n\u001b[0;32m     40\u001b[0m         \u001b[1;32melse\u001b[0m\u001b[1;33m:\u001b[0m\u001b[1;33m\u001b[0m\u001b[1;33m\u001b[0m\u001b[0m\n",
      "\u001b[1;31mAttributeError\u001b[0m: 'square2' object has no attribute 'dim'"
     ]
    }
   ],
   "source": [
    "# wap to calculate the area of two rectangles and square and try to take \n",
    "# some common dimensions by which we can perform inheritance and also try\n",
    "# to get the output of these classes and try to find rectangle is similar\n",
    "# to square or not.\n",
    "\n",
    "class rec1:\n",
    "    def __init__(self,l,b):\n",
    "        self.l =l\n",
    "        self.b =b\n",
    "        \n",
    "class rec2(rec1):\n",
    "    def __init__(self,l,b,le,br):\n",
    "        super().__init__(l,b)\n",
    "        self.le=le\n",
    "        self.br=br\n",
    "    \n",
    "    def dim(self):\n",
    "        area1 = self.l*self.b\n",
    "        area2 = self.le*self.br\n",
    "        print(\"Area of first rectangle=\",area1,\"Area of second rectangle=\",area2)\n",
    "\n",
    "# class square1:\n",
    "#     def __init__(self,a):\n",
    "#         self.a = a\n",
    "        \n",
    "# class square2(square1):\n",
    "#     def __init__(self,a,b):\n",
    "#         super().__init__(a)\n",
    "#         self.b=b\n",
    "        \n",
    "#     def area_of_square(self):\n",
    "#         a1 = self.a**2\n",
    "#         a2=self.b**2\n",
    "#         print(\"Area of sq1=\",a1)\n",
    "#         print(\"Area of sq2=\",a2)\n",
    "        \n",
    "#     def fun(self):\n",
    "#         if self.dim == self.area_of_square:\n",
    "#             print(\"SQ & rec are same\")\n",
    "#         else:\n",
    "#             print(\"Not same\")\n",
    "        \n",
    "        \n",
    "# r = rec2(2,3,4,9)\n",
    "# r.dim()\n",
    "\n",
    "# s=square2(2,3)\n",
    "# s.area_of_square()\n",
    "# s.fun()"
   ]
  },
  {
   "cell_type": "code",
   "execution_count": 12,
   "id": "89a56c46",
   "metadata": {},
   "outputs": [
    {
     "name": "stdout",
     "output_type": "stream",
     "text": [
      "total marks of student1= 255 total marks of student2= 340\n"
     ]
    }
   ],
   "source": [
    "#with the help of class, object, constructor, inheritance & function\n",
    "#wap to calculate the total marks of a student in 5 subjects.\n",
    "#wap to claculate the milage of a car. \n",
    "class std1:\n",
    "    def __init__(self,maths1,english1,hindi1,sst1,science1):\n",
    "        self.maths1=maths1\n",
    "        self.english1=english1\n",
    "        self.hindi1=hindi1\n",
    "        self.sst1=sst1\n",
    "        self.science1=science1\n",
    "class std2(std1):\n",
    "    def __init__(self,maths1,english1,hindi1,sst1,science1,maths2,english2,hindi2,sst2,science2):\n",
    "        super().__init__(maths1,english1,hindi1,sst1,science1)\n",
    "        self.maths2=maths2\n",
    "        self.english2=english2\n",
    "        self.hindi2=hindi2\n",
    "        self.sst2=sst2\n",
    "        self.science2=science2\n",
    "        \n",
    "    def total_marks(self):\n",
    "        total_m_s1=self.maths1+self.english1+self.hindi1+self.sst1+self.science1\n",
    "        total_m_s2=self.maths2+self.english2+self.hindi2+self.sst2+self.science2\n",
    "        \n",
    "        print(\"total marks of student1=\",total_m_s1,\"total marks of student2=\",total_m_s2)\n",
    "s=std2(25,45,60,80,45,100,50,90,60,40)\n",
    "s.total_marks()\n"
   ]
  },
  {
   "cell_type": "code",
   "execution_count": 15,
   "id": "26b4e7dd",
   "metadata": {},
   "outputs": [
    {
     "name": "stdout",
     "output_type": "stream",
     "text": [
      "Total marks of the student is ----> 20\n"
     ]
    }
   ],
   "source": [
    "class std:\n",
    "    def __init__(self,eng,hindi,maths):\n",
    "        self.eng=eng\n",
    "        self.hindi=hindi\n",
    "        self.maths=maths\n",
    "        \n",
    "class sub(std):\n",
    "    def __init__(self,eng,hindi,maths,sci,python):\n",
    "        super().__init__(eng,hindi,maths)\n",
    "        self.sci=sci\n",
    "        self.python=python\n",
    "        \n",
    "    def marks(self):\n",
    "        t_marks = (self.eng+self.hindi+self.maths+self.sci+self.python)\n",
    "        print(\"Total marks of the student is ---->\",t_marks)\n",
    "\n",
    "s = sub(2,3,4,5,6)\n",
    "s.marks()"
   ]
  },
  {
   "cell_type": "code",
   "execution_count": 16,
   "id": "104345be",
   "metadata": {},
   "outputs": [
    {
     "name": "stdout",
     "output_type": "stream",
     "text": [
      "mileage of car1= 100.0 mileage of car2 216.66666666666666\n"
     ]
    }
   ],
   "source": [
    "class car1:\n",
    "    def __init__(self,total_distance1,fuel_used1):\n",
    "        self.total_distance1=total_distance1\n",
    "        self.fuel_used1=fuel_used1\n",
    "class car2(car1):\n",
    "    def __init__(self,total_distance1,fuel_used1,total_distance2,fuel_used2):\n",
    "        super().__init__(total_distance1,fuel_used1)\n",
    "        self.total_distance2=total_distance2\n",
    "        self.fuel_used2=fuel_used2\n",
    "    def mileage(self):\n",
    "        m1=self.total_distance1/self.fuel_used1\n",
    "        m2=self.total_distance2/self.fuel_used2\n",
    "        print(\"mileage of car1=\",m1,\"mileage of car2\",m2)\n",
    "c=car2(4500,45,6500,30)\n",
    "c.mileage()\n"
   ]
  },
  {
   "cell_type": "code",
   "execution_count": 17,
   "id": "6f8430b0",
   "metadata": {},
   "outputs": [
    {
     "name": "stdout",
     "output_type": "stream",
     "text": [
      "average marks= 88.0\n"
     ]
    }
   ],
   "source": [
    "#wap to find the avg marks of a student.\n",
    "\n",
    "class std:\n",
    "    def __init__(self,hindi,english):\n",
    "        self.hindi=hindi\n",
    "        self.english=english\n",
    "class sub(std):\n",
    "    def __init__(self,hindi,english,science,sst,maths):\n",
    "        super().__init__(hindi,english)\n",
    "        self.science=science\n",
    "        self.sst=sst\n",
    "        self.maths=maths\n",
    "    def average(self):\n",
    "        average_marks=(self.hindi+self.english+self.science+self.sst+self.maths)/5\n",
    "        print(\"average marks=\",average_marks)\n",
    "s=sub(85,75,95,85,100)\n",
    "s.average()\n"
   ]
  },
  {
   "cell_type": "code",
   "execution_count": null,
   "id": "1bf82dbc",
   "metadata": {},
   "outputs": [],
   "source": [
    "#wap and try to print fizz if u get number 5 or multiple of 5 in your code."
   ]
  }
 ],
 "metadata": {
  "kernelspec": {
   "display_name": "Python 3 (ipykernel)",
   "language": "python",
   "name": "python3"
  },
  "language_info": {
   "codemirror_mode": {
    "name": "ipython",
    "version": 3
   },
   "file_extension": ".py",
   "mimetype": "text/x-python",
   "name": "python",
   "nbconvert_exporter": "python",
   "pygments_lexer": "ipython3",
   "version": "3.9.7"
  }
 },
 "nbformat": 4,
 "nbformat_minor": 5
}
