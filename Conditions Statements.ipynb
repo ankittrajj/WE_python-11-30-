{
 "cells": [
  {
   "cell_type": "code",
   "execution_count": 2,
   "id": "59897df9",
   "metadata": {},
   "outputs": [
    {
     "name": "stdout",
     "output_type": "stream",
     "text": [
      "Adult\n"
     ]
    }
   ],
   "source": [
    "#syntax\n",
    "# if condition:\n",
    "#     print(\"msg\")\n",
    "# else:\n",
    "#     print(\"msg\")\n",
    "\n",
    "age = 21\n",
    "if age>18:\n",
    "    print(\"Adult\")\n",
    "else:\n",
    "    print(\"Child\")"
   ]
  },
  {
   "cell_type": "code",
   "execution_count": 7,
   "id": "29a36505",
   "metadata": {},
   "outputs": [
    {
     "name": "stdout",
     "output_type": "stream",
     "text": [
      "Adult\n"
     ]
    }
   ],
   "source": [
    "age = 18\n",
    "if age>=18:\n",
    "    print(\"Adult\")\n",
    "else:\n",
    "    print(\"Child\")"
   ]
  },
  {
   "cell_type": "code",
   "execution_count": 19,
   "id": "f9d3cc71",
   "metadata": {},
   "outputs": [
    {
     "ename": "SyntaxError",
     "evalue": "invalid syntax (Temp/ipykernel_2984/2535905406.py, line 4)",
     "output_type": "error",
     "traceback": [
      "\u001b[1;36m  File \u001b[1;32m\"C:\\Users\\ddugky\\AppData\\Local\\Temp/ipykernel_2984/2535905406.py\"\u001b[1;36m, line \u001b[1;32m4\u001b[0m\n\u001b[1;33m    elif age>==18:\u001b[0m\n\u001b[1;37m              ^\u001b[0m\n\u001b[1;31mSyntaxError\u001b[0m\u001b[1;31m:\u001b[0m invalid syntax\n"
     ]
    }
   ],
   "source": [
    "age = int(input())\n",
    "if age>18:\n",
    "    print(\"Adult\")\n",
    "elif age>==18:\n",
    "    print(\"You are 18 years old\")\n",
    "else:\n",
    "    print(\"Child\")"
   ]
  },
  {
   "cell_type": "code",
   "execution_count": 9,
   "id": "28828279",
   "metadata": {},
   "outputs": [
    {
     "name": "stdout",
     "output_type": "stream",
     "text": [
      "10\n"
     ]
    }
   ],
   "source": [
    "a=10\n",
    "print(a)"
   ]
  },
  {
   "cell_type": "code",
   "execution_count": 11,
   "id": "29a4f7ba",
   "metadata": {},
   "outputs": [
    {
     "name": "stdout",
     "output_type": "stream",
     "text": [
      "10\n"
     ]
    }
   ],
   "source": [
    "a==10\n",
    "print(a)"
   ]
  },
  {
   "cell_type": "code",
   "execution_count": 13,
   "id": "e7f0fab9",
   "metadata": {},
   "outputs": [
    {
     "data": {
      "text/plain": [
       "False"
      ]
     },
     "execution_count": 13,
     "metadata": {},
     "output_type": "execute_result"
    }
   ],
   "source": [
    "b=10\n",
    "a=12\n",
    "a==b"
   ]
  },
  {
   "cell_type": "code",
   "execution_count": 16,
   "id": "1fd91dbe",
   "metadata": {},
   "outputs": [
    {
     "name": "stdout",
     "output_type": "stream",
     "text": [
      "age18\n",
      "you are 18 yrs old\n"
     ]
    }
   ],
   "source": [
    "age = int(input(\"age\"))\n",
    "if age>18:\n",
    "    print(\"adult\")\n",
    "elif age==18:\n",
    "    print(\"you are 18 yrs old\")\n",
    "else:\n",
    "    print(\"child\")"
   ]
  },
  {
   "cell_type": "code",
   "execution_count": 20,
   "id": "4b70da80",
   "metadata": {},
   "outputs": [],
   "source": [
    "#wap and print a individual is ready to vote or not.\n",
    "# if person is 18+----> he can vote\n",
    "# if person is 18-  ----> he cannot vote\n",
    "# if person is 18 years of age then he is first time voter.\n",
    "\n",
    "\n",
    "#wap to find the max of 3 numbers.\n",
    "#wap to find the min of three numbers."
   ]
  },
  {
   "cell_type": "code",
   "execution_count": 27,
   "id": "3e5aa31a",
   "metadata": {},
   "outputs": [
    {
     "name": "stdout",
     "output_type": "stream",
     "text": [
      "100\n",
      "2\n",
      "34\n",
      "numbera 100\n"
     ]
    }
   ],
   "source": [
    "numbera= int(input())\n",
    "numberb= int(input())\n",
    "numberc= int(input())\n",
    "\n",
    "if numbera>numberb:\n",
    "    print('numbera',numbera)\n",
    "\n",
    "elif numberb>numberc:\n",
    "    print('numberb',numberb)\n",
    "\n",
    "else:\n",
    "    print('numberc',numberc)"
   ]
  },
  {
   "cell_type": "code",
   "execution_count": 29,
   "id": "a71c5b10",
   "metadata": {},
   "outputs": [
    {
     "name": "stdout",
     "output_type": "stream",
     "text": [
      "C\n"
     ]
    }
   ],
   "source": [
    "a=23\n",
    "b=22\n",
    "c=90\n",
    "if a>b and a>c:\n",
    "    print(\"A----->\",a)\n",
    "elif b>c:\n",
    "    print(\"B----->\",b)\n",
    "# elif c>a and c>b:\n",
    "#     print(\"C------>\",c)\n",
    "else:\n",
    "    print(\"C\")"
   ]
  },
  {
   "cell_type": "code",
   "execution_count": 30,
   "id": "ab24e019",
   "metadata": {},
   "outputs": [
    {
     "name": "stdout",
     "output_type": "stream",
     "text": [
      "enter a number12\n",
      "enter second number109\n",
      "enter third number89\n",
      "y\n"
     ]
    }
   ],
   "source": [
    "x = int(input(\"enter a number\"))\n",
    "y = int(input(\"enter second number\"))\n",
    "z = int(input(\"enter third number\"))\n",
    "if x>y and x>z:\n",
    "    print(\"x\")\n",
    "elif y>z and y>x:\n",
    "    print(\"y\")\n",
    "elif z>x and z>y:\n",
    "    print(\"z\")"
   ]
  },
  {
   "cell_type": "code",
   "execution_count": 31,
   "id": "3e6bd1cb",
   "metadata": {},
   "outputs": [
    {
     "name": "stdout",
     "output_type": "stream",
     "text": [
      "total no. of classes50\n",
      "no. of classes attended23\n",
      "46.0\n",
      "student not allowed\n"
     ]
    }
   ],
   "source": [
    "# A student will not allowed to sit in the exam if his/her \n",
    "# attendance\n",
    "# is less than 75% \n",
    "# Take following input from the user\n",
    "# 1. Number of classes held\n",
    "# 2. number of classes attend\n",
    "# and print percentage of class attend.\n",
    "#  Is student is allowed to sit in the exam or not.\n",
    "\n",
    "a=int(input(\"total no. of classes\"))\n",
    "b=int(input(\"no. of classes attended\"))\n",
    "per=(b/a)*100\n",
    "print(per)\n",
    "if per>75:\n",
    "    print(\"student allowed\")\n",
    "elif per==75:\n",
    "    print(\"student still allowed\")\n",
    "else:\n",
    "    print(\"student not allowed\")"
   ]
  },
  {
   "cell_type": "code",
   "execution_count": null,
   "id": "42c68fb7",
   "metadata": {},
   "outputs": [],
   "source": [
    "# WAP to find odd and even number with the help of user input."
   ]
  }
 ],
 "metadata": {
  "kernelspec": {
   "display_name": "Python 3 (ipykernel)",
   "language": "python",
   "name": "python3"
  },
  "language_info": {
   "codemirror_mode": {
    "name": "ipython",
    "version": 3
   },
   "file_extension": ".py",
   "mimetype": "text/x-python",
   "name": "python",
   "nbconvert_exporter": "python",
   "pygments_lexer": "ipython3",
   "version": "3.9.7"
  }
 },
 "nbformat": 4,
 "nbformat_minor": 5
}
