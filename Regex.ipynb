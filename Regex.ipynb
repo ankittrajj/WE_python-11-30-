{
 "cells": [
  {
   "cell_type": "code",
   "execution_count": 1,
   "id": "a0d21764",
   "metadata": {},
   "outputs": [],
   "source": [
    "import re"
   ]
  },
  {
   "cell_type": "code",
   "execution_count": 14,
   "id": "110aaff1",
   "metadata": {},
   "outputs": [
    {
     "data": {
      "text/plain": [
       "<re.Match object; span=(7, 14), match='student'>"
      ]
     },
     "execution_count": 14,
     "metadata": {},
     "output_type": "execute_result"
    }
   ],
   "source": [
    "# search\n",
    "# split\n",
    "# sub\n",
    "# findall\n",
    "\n",
    "a = 'I am a student who fail the exam'\n",
    "re.search('student',a)"
   ]
  },
  {
   "cell_type": "code",
   "execution_count": 13,
   "id": "dbc2116e",
   "metadata": {},
   "outputs": [
    {
     "data": {
      "text/plain": [
       "['I am a s', 'uden', '']"
      ]
     },
     "execution_count": 13,
     "metadata": {},
     "output_type": "execute_result"
    }
   ],
   "source": [
    "re.split('t',a)"
   ]
  },
  {
   "cell_type": "code",
   "execution_count": 16,
   "id": "2bbba233",
   "metadata": {},
   "outputs": [
    {
     "data": {
      "text/plain": [
       "'I am a student who pass the exam'"
      ]
     },
     "execution_count": 16,
     "metadata": {},
     "output_type": "execute_result"
    }
   ],
   "source": [
    "# sub\n",
    "re.sub('fail','pass',a)"
   ]
  },
  {
   "cell_type": "code",
   "execution_count": 17,
   "id": "6579ca86",
   "metadata": {},
   "outputs": [
    {
     "data": {
      "text/plain": [
       "['a', 'a', 'a', 'a']"
      ]
     },
     "execution_count": 17,
     "metadata": {},
     "output_type": "execute_result"
    }
   ],
   "source": [
    "# findall\n",
    "re.findall('a',a)"
   ]
  },
  {
   "cell_type": "code",
   "execution_count": null,
   "id": "d567377e",
   "metadata": {},
   "outputs": [],
   "source": [
    "#pycharm\n",
    "# mysql "
   ]
  }
 ],
 "metadata": {
  "kernelspec": {
   "display_name": "Python 3 (ipykernel)",
   "language": "python",
   "name": "python3"
  },
  "language_info": {
   "codemirror_mode": {
    "name": "ipython",
    "version": 3
   },
   "file_extension": ".py",
   "mimetype": "text/x-python",
   "name": "python",
   "nbconvert_exporter": "python",
   "pygments_lexer": "ipython3",
   "version": "3.9.7"
  }
 },
 "nbformat": 4,
 "nbformat_minor": 5
}
