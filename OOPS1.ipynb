{
 "cells": [
  {
   "cell_type": "code",
   "execution_count": 12,
   "id": "e1c9cb6c",
   "metadata": {},
   "outputs": [
    {
     "name": "stdout",
     "output_type": "stream",
     "text": [
      "abc 23 56\n",
      "None\n",
      "abc 234 56\n"
     ]
    }
   ],
   "source": [
    "# oops----> object oriented prog. structure\n",
    "# object----> real world entity.\n",
    "# class---> blueprint of object!!\n",
    "# class & object\n",
    "\n",
    "\n",
    "class student:\n",
    "    \n",
    "    def detail(self):\n",
    "        name = 'abc'\n",
    "        age=23\n",
    "        marks = 56\n",
    "        print(name,age,marks)\n",
    "    def detail2(self):\n",
    "        name = 'abc'\n",
    "        age=234\n",
    "        marks = 56\n",
    "        print(name,age,marks)\n",
    "        \n",
    "\n",
    "# student().detail()\n",
    "# student().deatail2()\n",
    "s = student()\n",
    "print(s.detail())\n",
    "s.detail2()"
   ]
  },
  {
   "cell_type": "code",
   "execution_count": null,
   "id": "376d910f",
   "metadata": {},
   "outputs": [],
   "source": [
    "#wap and  make a class of emp having the properties of\n",
    "# name age and monthly salary and also try to calculate the \n",
    "# annual income.\n",
    "\n",
    "# condition----> if your emp take more than 12 holidays\n",
    "# then salary is annual salary is reduce to 3 %\n",
    "\n",
    "#if emp take no holiday then he will get 5% extra on his salary.\n",
    "\n",
    "\n",
    "class emp:\n",
    "    def salary():\n",
    "        name = 'ASD'\n",
    "        age=67\n",
    "        salary = 20000\n",
    "        \n",
    "        annual_sal = salary *12\n",
    "        \n",
    "        print(annual_sal)\n",
    "        \n",
    "e = emp()\n",
    "e.salary"
   ]
  }
 ],
 "metadata": {
  "kernelspec": {
   "display_name": "Python 3 (ipykernel)",
   "language": "python",
   "name": "python3"
  },
  "language_info": {
   "codemirror_mode": {
    "name": "ipython",
    "version": 3
   },
   "file_extension": ".py",
   "mimetype": "text/x-python",
   "name": "python",
   "nbconvert_exporter": "python",
   "pygments_lexer": "ipython3",
   "version": "3.9.7"
  }
 },
 "nbformat": 4,
 "nbformat_minor": 5
}
