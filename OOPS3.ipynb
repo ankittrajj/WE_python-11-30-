{
 "cells": [
  {
   "cell_type": "code",
   "execution_count": 1,
   "id": "23a039ff",
   "metadata": {},
   "outputs": [
    {
     "name": "stdout",
     "output_type": "stream",
     "text": [
      "\n"
     ]
    }
   ],
   "source": [
    "# Wap and make a class by yourself and try to make the properties as null\n",
    "# or empty and also make the object for it to find the output of this code.\n",
    "class std1:\n",
    "    def details(self):\n",
    "        print()\n",
    "s = std1()\n",
    "s.details()\n"
   ]
  },
  {
   "cell_type": "code",
   "execution_count": 4,
   "id": "56a7f41a",
   "metadata": {},
   "outputs": [
    {
     "data": {
      "text/plain": [
       "<__main__.x at 0x1349aa1af40>"
      ]
     },
     "execution_count": 4,
     "metadata": {},
     "output_type": "execute_result"
    }
   ],
   "source": [
    "class x:\n",
    "    def empty(self):\n",
    "        pass\n",
    "#         None\n",
    "        \n",
    "\n",
    "x()\n",
    "# c.empty()"
   ]
  },
  {
   "cell_type": "markdown",
   "id": "2e791e94",
   "metadata": {},
   "source": [
    "# Multilevel Inheritance"
   ]
  },
  {
   "cell_type": "code",
   "execution_count": 14,
   "id": "fb78ecf4",
   "metadata": {},
   "outputs": [
    {
     "name": "stdout",
     "output_type": "stream",
     "text": [
      "This is parent class\n"
     ]
    }
   ],
   "source": [
    "# grandparent class\n",
    "class g_parent:\n",
    "    def detail_g(self):\n",
    "        print(\"This is Grand Parent class\")\n",
    "        \n",
    "# parent class\n",
    "class parent(g_parent):\n",
    "    def detail_p(self):\n",
    "        print(\"This is parent class\")\n",
    "        \n",
    "# child clas\n",
    "class child(parent):\n",
    "    def detail_c(self):\n",
    "        print(\"This is child class\")\n",
    "        \n",
    "# object of child class\n",
    "p = child()\n",
    "p.detail_p()"
   ]
  },
  {
   "cell_type": "code",
   "execution_count": 15,
   "id": "07136caf",
   "metadata": {},
   "outputs": [
    {
     "name": "stdout",
     "output_type": "stream",
     "text": [
      "This is Grand Parent class\n"
     ]
    }
   ],
   "source": [
    "p.detail_g()"
   ]
  },
  {
   "cell_type": "code",
   "execution_count": 16,
   "id": "de843f23",
   "metadata": {},
   "outputs": [
    {
     "name": "stdout",
     "output_type": "stream",
     "text": [
      "This is child class\n"
     ]
    }
   ],
   "source": [
    "p.detail_c()"
   ]
  },
  {
   "cell_type": "code",
   "execution_count": 19,
   "id": "b0698435",
   "metadata": {},
   "outputs": [
    {
     "ename": "TypeError",
     "evalue": "__init__() missing 1 required positional argument: 'weather_h'",
     "output_type": "error",
     "traceback": [
      "\u001b[1;31m---------------------------------------------------------------------------\u001b[0m",
      "\u001b[1;31mTypeError\u001b[0m                                 Traceback (most recent call last)",
      "\u001b[1;32m~\\AppData\\Local\\Temp/ipykernel_13752/520203565.py\u001b[0m in \u001b[0;36m<module>\u001b[1;34m\u001b[0m\n\u001b[0;32m     15\u001b[0m \u001b[1;33m\u001b[0m\u001b[0m\n\u001b[0;32m     16\u001b[0m \u001b[1;33m\u001b[0m\u001b[0m\n\u001b[1;32m---> 17\u001b[1;33m \u001b[0mw\u001b[0m\u001b[1;33m=\u001b[0m\u001b[0mpunjab\u001b[0m\u001b[1;33m(\u001b[0m\u001b[1;34m'rainy'\u001b[0m\u001b[1;33m,\u001b[0m\u001b[1;34m'sunny'\u001b[0m\u001b[1;33m,\u001b[0m\u001b[1;34m'slightly_raining'\u001b[0m\u001b[1;33m)\u001b[0m\u001b[1;33m\u001b[0m\u001b[1;33m\u001b[0m\u001b[0m\n\u001b[0m",
      "\u001b[1;32m~\\AppData\\Local\\Temp/ipykernel_13752/520203565.py\u001b[0m in \u001b[0;36m__init__\u001b[1;34m(self, weather_d, weather_h, weather_p)\u001b[0m\n\u001b[0;32m     11\u001b[0m \u001b[1;32mclass\u001b[0m \u001b[0mpunjab\u001b[0m\u001b[1;33m(\u001b[0m\u001b[0mharyana\u001b[0m\u001b[1;33m)\u001b[0m\u001b[1;33m:\u001b[0m\u001b[1;33m\u001b[0m\u001b[1;33m\u001b[0m\u001b[0m\n\u001b[0;32m     12\u001b[0m     \u001b[1;32mdef\u001b[0m \u001b[0m__init__\u001b[0m\u001b[1;33m(\u001b[0m\u001b[0mself\u001b[0m\u001b[1;33m,\u001b[0m\u001b[0mweather_d\u001b[0m\u001b[1;33m,\u001b[0m\u001b[0mweather_h\u001b[0m\u001b[1;33m,\u001b[0m\u001b[0mweather_p\u001b[0m\u001b[1;33m)\u001b[0m\u001b[1;33m:\u001b[0m\u001b[1;33m\u001b[0m\u001b[1;33m\u001b[0m\u001b[0m\n\u001b[1;32m---> 13\u001b[1;33m         \u001b[0msuper\u001b[0m\u001b[1;33m(\u001b[0m\u001b[1;33m)\u001b[0m\u001b[1;33m.\u001b[0m\u001b[0m__init__\u001b[0m\u001b[1;33m(\u001b[0m\u001b[0mweather_h\u001b[0m\u001b[1;33m)\u001b[0m\u001b[1;33m\u001b[0m\u001b[1;33m\u001b[0m\u001b[0m\n\u001b[0m\u001b[0;32m     14\u001b[0m         \u001b[0mself\u001b[0m\u001b[1;33m.\u001b[0m\u001b[0mweather_p\u001b[0m\u001b[1;33m=\u001b[0m\u001b[0mweather_p\u001b[0m\u001b[1;33m\u001b[0m\u001b[1;33m\u001b[0m\u001b[0m\n\u001b[0;32m     15\u001b[0m \u001b[1;33m\u001b[0m\u001b[0m\n",
      "\u001b[1;31mTypeError\u001b[0m: __init__() missing 1 required positional argument: 'weather_h'"
     ]
    }
   ],
   "source": [
    "#wap and make a class of weather report of different states(at least 3 states.)\n",
    "# first do it function then try to solve this with constructor.\n",
    "\n",
    "class delhi:\n",
    "    def __init__(self,weather_d):\n",
    "        self.weather_d=weather_d\n",
    "class haryana(delhi):\n",
    "    def __init__(self,weather_d,weather_h):\n",
    "        super().__init__(weather_d)\n",
    "        self.weather_h=weather_h\n",
    "class punjab(haryana):\n",
    "    def __init__(self,weather_d,weather_h,weather_p):\n",
    "        super().__init__(weather_h)\n",
    "        self.weather_p=weather_p\n",
    "        \n",
    "        \n",
    "w=punjab('rainy','sunny','slightly_raining')"
   ]
  },
  {
   "cell_type": "code",
   "execution_count": 27,
   "id": "2807248e",
   "metadata": {},
   "outputs": [
    {
     "data": {
      "text/plain": [
       "'sunny'"
      ]
     },
     "execution_count": 27,
     "metadata": {},
     "output_type": "execute_result"
    }
   ],
   "source": [
    "class delhi:\n",
    "    def __init__(self,weather_d):\n",
    "        self.weather_d=weather_d\n",
    "class haryana(delhi):\n",
    "    def __init__(self,weather_d,weather_h):\n",
    "        super().__init__(weather_d)\n",
    "        self.weather_h=weather_h\n",
    "class punjab(haryana):\n",
    "    def __init__(self,weather_d,weather_h,weather_p):\n",
    "        super().__init__(weather_d,weather_h)\n",
    "        self.weather_p=weather_p\n",
    "w=punjab('rainy','sunny','summer')\n",
    "w.weather_h\n"
   ]
  },
  {
   "cell_type": "code",
   "execution_count": 25,
   "id": "e20abe5d",
   "metadata": {},
   "outputs": [
    {
     "data": {
      "text/plain": [
       "'sunny'"
      ]
     },
     "execution_count": 25,
     "metadata": {},
     "output_type": "execute_result"
    }
   ],
   "source": [
    "# #weather report\n",
    "# class state1:\n",
    "#     def __init__(self)\n",
    "\n",
    "class delhi:\n",
    "    def __init__(self,weather_d):\n",
    "        self.weather_d=weather_d\n",
    "        \n",
    "class haryana(delhi):\n",
    "    def __init__(self,weather_d,weather_h):\n",
    "        super().__init__(weather_d)\n",
    "        self.weather_h=weather_h\n",
    "        \n",
    "class punjab(haryana):\n",
    "    def __init__(self,weather_d,weather_h,weather_p):\n",
    "        super().__init__(weather_d,weather_h)\n",
    "        self.weather_p=weather_p\n",
    "        \n",
    "w=punjab(\"rainy\",\"sunny\",\"slightly_raining\")\n",
    "w.weather_h\n",
    "\n",
    "\n",
    "# class delhi:\n",
    "#     def __init__(self,weather_d):\n",
    "#         self.weather_d=weather_d\n",
    "# class haryana(delhi):\n",
    "#     def __init__(self,weather_d,weather_h):\n",
    "#         super().__init__(weather_d)\n",
    "#         self.weather_h=weather_h\n",
    "# class punjab(haryana):\n",
    "#     def __init__(self,weather_d,weather_h,weather_p):\n",
    "#         super().__init__(weather_h)\n",
    "#         self.weather_p=weather_p\n",
    "# w=haryana('rainy','sunny')\n",
    "# w.weather_h()\n"
   ]
  },
  {
   "cell_type": "code",
   "execution_count": null,
   "id": "bb411cd9",
   "metadata": {},
   "outputs": [],
   "source": [
    "#single/ multilevel\n",
    "\n",
    "# Wap to calculate the area of two rectangles and one square and try to \n",
    "# take some common dimensions by which we can perform inheritance and also\n",
    "# try to get the output of these classes and try to find rectance is similar\n",
    "# to square or not."
   ]
  }
 ],
 "metadata": {
  "kernelspec": {
   "display_name": "Python 3 (ipykernel)",
   "language": "python",
   "name": "python3"
  },
  "language_info": {
   "codemirror_mode": {
    "name": "ipython",
    "version": 3
   },
   "file_extension": ".py",
   "mimetype": "text/x-python",
   "name": "python",
   "nbconvert_exporter": "python",
   "pygments_lexer": "ipython3",
   "version": "3.9.7"
  }
 },
 "nbformat": 4,
 "nbformat_minor": 5
}
