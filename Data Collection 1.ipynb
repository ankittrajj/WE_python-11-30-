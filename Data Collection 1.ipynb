{
 "cells": [
  {
   "cell_type": "code",
   "execution_count": 1,
   "id": "660039c4",
   "metadata": {},
   "outputs": [],
   "source": [
    "x = [34,89,-90,45.7,23.8,'Python','SQL',True]"
   ]
  },
  {
   "cell_type": "code",
   "execution_count": 2,
   "id": "ac2cef2b",
   "metadata": {},
   "outputs": [
    {
     "data": {
      "text/plain": [
       "[34, 89, -90, 45.7, 23.8, 'Python', 'SQL', True]"
      ]
     },
     "execution_count": 2,
     "metadata": {},
     "output_type": "execute_result"
    }
   ],
   "source": [
    "x"
   ]
  },
  {
   "cell_type": "code",
   "execution_count": 3,
   "id": "47618838",
   "metadata": {},
   "outputs": [
    {
     "data": {
      "text/plain": [
       "list"
      ]
     },
     "execution_count": 3,
     "metadata": {},
     "output_type": "execute_result"
    }
   ],
   "source": [
    "type(x)"
   ]
  },
  {
   "cell_type": "code",
   "execution_count": 4,
   "id": "4a9c4ba9",
   "metadata": {},
   "outputs": [
    {
     "data": {
      "text/plain": [
       "[34, 89, -90, 45.7, 23.8, 'Python', 'SQL', True]"
      ]
     },
     "execution_count": 4,
     "metadata": {},
     "output_type": "execute_result"
    }
   ],
   "source": [
    "#indexing & slicing\n",
    "x"
   ]
  },
  {
   "cell_type": "code",
   "execution_count": 5,
   "id": "e39013b0",
   "metadata": {},
   "outputs": [
    {
     "data": {
      "text/plain": [
       "34"
      ]
     },
     "execution_count": 5,
     "metadata": {},
     "output_type": "execute_result"
    }
   ],
   "source": [
    "x[0]"
   ]
  },
  {
   "cell_type": "code",
   "execution_count": 8,
   "id": "b97f10c3",
   "metadata": {},
   "outputs": [
    {
     "data": {
      "text/plain": [
       "[-90, 45.7, 23.8, 'Python']"
      ]
     },
     "execution_count": 8,
     "metadata": {},
     "output_type": "execute_result"
    }
   ],
   "source": [
    "#wap to slice the code from -90 to python .\n",
    "x[2:6]"
   ]
  },
  {
   "cell_type": "code",
   "execution_count": 9,
   "id": "f605ad6b",
   "metadata": {},
   "outputs": [
    {
     "data": {
      "text/plain": [
       "[34, 89, -90, 45.7, 23.8, 'Python', 'SQL', True]"
      ]
     },
     "execution_count": 9,
     "metadata": {},
     "output_type": "execute_result"
    }
   ],
   "source": [
    "x"
   ]
  },
  {
   "cell_type": "code",
   "execution_count": 16,
   "id": "4de205f9",
   "metadata": {},
   "outputs": [
    {
     "data": {
      "text/plain": [
       "[True, 'SQL', 'Python']"
      ]
     },
     "execution_count": 16,
     "metadata": {},
     "output_type": "execute_result"
    }
   ],
   "source": [
    "# True ----- Python \n",
    "\n",
    "x[-1:-4:-1]"
   ]
  },
  {
   "cell_type": "code",
   "execution_count": 18,
   "id": "f5c3b74a",
   "metadata": {},
   "outputs": [
    {
     "data": {
      "text/plain": [
       "[True, 'SQL']"
      ]
     },
     "execution_count": 18,
     "metadata": {},
     "output_type": "execute_result"
    }
   ],
   "source": [
    "x[7:5:-1]"
   ]
  },
  {
   "cell_type": "code",
   "execution_count": 19,
   "id": "1667add9",
   "metadata": {},
   "outputs": [
    {
     "data": {
      "text/plain": [
       "[34, 89, -90, 45.7, 23.8, 'Python', 'SQL', True]"
      ]
     },
     "execution_count": 19,
     "metadata": {},
     "output_type": "execute_result"
    }
   ],
   "source": [
    "# Mutable ------> \n",
    "x "
   ]
  },
  {
   "cell_type": "code",
   "execution_count": 21,
   "id": "f15ddf19",
   "metadata": {},
   "outputs": [],
   "source": [
    "x[0]='Shahank '"
   ]
  },
  {
   "cell_type": "code",
   "execution_count": 22,
   "id": "7f828f74",
   "metadata": {},
   "outputs": [
    {
     "data": {
      "text/plain": [
       "['Shahank ', 89, -90, 45.7, 23.8, 'Python', 'SQL', True]"
      ]
     },
     "execution_count": 22,
     "metadata": {},
     "output_type": "execute_result"
    }
   ],
   "source": [
    "x"
   ]
  },
  {
   "cell_type": "code",
   "execution_count": 23,
   "id": "79e04b90",
   "metadata": {},
   "outputs": [
    {
     "data": {
      "text/plain": [
       "'Shahank '"
      ]
     },
     "execution_count": 23,
     "metadata": {},
     "output_type": "execute_result"
    }
   ],
   "source": [
    "x[0]"
   ]
  },
  {
   "cell_type": "code",
   "execution_count": 24,
   "id": "b763de30",
   "metadata": {},
   "outputs": [
    {
     "name": "stdout",
     "output_type": "stream",
     "text": [
      "[]\n"
     ]
    }
   ],
   "source": [
    "#wap to find empty list.\n",
    "#wap to find single element list.\n",
    "\n",
    "x = []\n",
    "print(x)"
   ]
  },
  {
   "cell_type": "code",
   "execution_count": 25,
   "id": "ffff98ed",
   "metadata": {},
   "outputs": [
    {
     "name": "stdout",
     "output_type": "stream",
     "text": [
      "[1]\n"
     ]
    }
   ],
   "source": [
    "x = [1]\n",
    "print(x)"
   ]
  },
  {
   "cell_type": "code",
   "execution_count": 26,
   "id": "b53ec058",
   "metadata": {},
   "outputs": [],
   "source": [
    "#wap to add the number present in the list.\n",
    "# x = [1,2,3,4]\n",
    "\n",
    "#wap to find odd and even number in a list.\n",
    "# x = [89,67,45,22,90,76]\n",
    "\n",
    "#wap to find common element in a list.\n",
    "# x = [34,45,67,89]\n",
    "# y = [78,90,45,23]\n",
    "\n",
    "\n"
   ]
  },
  {
   "cell_type": "code",
   "execution_count": 29,
   "id": "12af66c9",
   "metadata": {},
   "outputs": [
    {
     "name": "stdout",
     "output_type": "stream",
     "text": [
      "10\n"
     ]
    }
   ],
   "source": [
    "x = [1,2,3,4]\n",
    "add = 0\n",
    "for i in x:\n",
    "    add = add+i\n",
    "print(add)"
   ]
  },
  {
   "cell_type": "code",
   "execution_count": 30,
   "id": "c4726125",
   "metadata": {},
   "outputs": [
    {
     "name": "stdout",
     "output_type": "stream",
     "text": [
      "Odd\n",
      "Odd\n",
      "Odd\n",
      "Even\n",
      "Even\n",
      "Even\n"
     ]
    }
   ],
   "source": [
    "# x = [89,67,45,22,90,76]\n",
    "x=[89,67,45,22,90,76]\n",
    "for i in x:\n",
    "    if i%2==0:\n",
    "        print(\"Even\")\n",
    "    else:\n",
    "        print (\"Odd\")\n"
   ]
  },
  {
   "cell_type": "code",
   "execution_count": 34,
   "id": "f205f36d",
   "metadata": {},
   "outputs": [
    {
     "name": "stdout",
     "output_type": "stream",
     "text": [
      "Odd number------------> 89\n",
      "Odd number------------> 67\n",
      "Odd number------------> 45\n",
      "Even number 22\n",
      "Even number 90\n",
      "Even number 76\n"
     ]
    }
   ],
   "source": [
    "# Count the number how many numbers are even & odd\n",
    "x = [89,67,45,22,90,76]\n",
    "for i in x:\n",
    "    if i%2!=0:\n",
    "        print(\"Odd number------------>\",i)\n",
    "    else:\n",
    "        print(\"Even number\",i)"
   ]
  },
  {
   "cell_type": "code",
   "execution_count": 40,
   "id": "34913c96",
   "metadata": {},
   "outputs": [
    {
     "name": "stdout",
     "output_type": "stream",
     "text": [
      "Odd number------------> 89\n",
      "Odd number------------> 67\n",
      "Odd number------------> 45\n",
      "Odd number------------> 21\n",
      "Odd number------------> 77\n",
      "Odd number------------> 43\n",
      "Even number 22\n",
      "Even number 90\n",
      "Even number 76\n",
      "Odd number count =  6\n",
      "Even number count =  3\n"
     ]
    }
   ],
   "source": [
    "# Count the number how many numbers are even & odd\n",
    "x = [89,67,45,21,77,43,22,90,76]\n",
    "count_even = 0\n",
    "count_odd = 0\n",
    "for i in x:\n",
    "    if i%2!=0:\n",
    "        print(\"Odd number------------>\",i)\n",
    "        count_odd+=1\n",
    "        \n",
    "    else:\n",
    "        print(\"Even number\",i)\n",
    "        count_even+=1\n",
    "        \n",
    "print(\"Odd number count = \",count_odd)\n",
    "print(\"Even number count = \",count_even)"
   ]
  },
  {
   "cell_type": "code",
   "execution_count": 42,
   "id": "730aca8d",
   "metadata": {},
   "outputs": [
    {
     "name": "stdout",
     "output_type": "stream",
     "text": [
      "Common element 45\n"
     ]
    }
   ],
   "source": [
    "#wap to find common element in a list.\n",
    "x = [34,45,67,89]\n",
    "y = [78,90,45,23]\n",
    "\n",
    "for i in x:\n",
    "    for j in y:\n",
    "        if i == j:\n",
    "            print('Common element',i)\n",
    "    \n"
   ]
  },
  {
   "cell_type": "code",
   "execution_count": null,
   "id": "63a05f37",
   "metadata": {},
   "outputs": [],
   "source": []
  }
 ],
 "metadata": {
  "kernelspec": {
   "display_name": "Python 3 (ipykernel)",
   "language": "python",
   "name": "python3"
  },
  "language_info": {
   "codemirror_mode": {
    "name": "ipython",
    "version": 3
   },
   "file_extension": ".py",
   "mimetype": "text/x-python",
   "name": "python",
   "nbconvert_exporter": "python",
   "pygments_lexer": "ipython3",
   "version": "3.9.7"
  }
 },
 "nbformat": 4,
 "nbformat_minor": 5
}
