{
 "cells": [
  {
   "cell_type": "code",
   "execution_count": 2,
   "id": "d4fbac52",
   "metadata": {},
   "outputs": [
    {
     "data": {
      "text/plain": [
       "(1156, 4, 49, 81, 144)"
      ]
     },
     "execution_count": 2,
     "metadata": {},
     "output_type": "execute_result"
    }
   ],
   "source": [
    "# map function\n",
    "\n",
    "x = [34,2,7,9,12]\n",
    "tuple(map(lambda a:a**2,x))"
   ]
  },
  {
   "cell_type": "code",
   "execution_count": 4,
   "id": "2abd7c80",
   "metadata": {},
   "outputs": [],
   "source": [
    "\n",
    "x = lambda a:a**2"
   ]
  },
  {
   "cell_type": "code",
   "execution_count": 5,
   "id": "5d3c6719",
   "metadata": {},
   "outputs": [
    {
     "data": {
      "text/plain": [
       "64"
      ]
     },
     "execution_count": 5,
     "metadata": {},
     "output_type": "execute_result"
    }
   ],
   "source": [
    "x(8)"
   ]
  },
  {
   "cell_type": "code",
   "execution_count": 6,
   "id": "b46f471b",
   "metadata": {},
   "outputs": [],
   "source": [
    "#wap to find the cube of a tuple i.e ----> (3,7,9,2,4)"
   ]
  },
  {
   "cell_type": "markdown",
   "id": "124fcfba",
   "metadata": {},
   "source": [
    "# Reduce Function"
   ]
  },
  {
   "cell_type": "code",
   "execution_count": 7,
   "id": "5893b2c1",
   "metadata": {},
   "outputs": [],
   "source": [
    "from functools import reduce"
   ]
  },
  {
   "cell_type": "code",
   "execution_count": 8,
   "id": "ae2f8fe3",
   "metadata": {},
   "outputs": [
    {
     "data": {
      "text/plain": [
       "10"
      ]
     },
     "execution_count": 8,
     "metadata": {},
     "output_type": "execute_result"
    }
   ],
   "source": [
    "x = [1,2,3,4]\n",
    "reduce(lambda x,y:x+y,x)"
   ]
  },
  {
   "cell_type": "code",
   "execution_count": 9,
   "id": "715de92c",
   "metadata": {},
   "outputs": [],
   "source": [
    "x = lambda a,b,c:(a+b+c)/3"
   ]
  },
  {
   "cell_type": "code",
   "execution_count": 10,
   "id": "3cc8603e",
   "metadata": {},
   "outputs": [
    {
     "data": {
      "text/plain": [
       "34.0"
      ]
     },
     "execution_count": 10,
     "metadata": {},
     "output_type": "execute_result"
    }
   ],
   "source": [
    "x(23,34,45)"
   ]
  },
  {
   "cell_type": "code",
   "execution_count": null,
   "id": "b9b35428",
   "metadata": {},
   "outputs": [],
   "source": []
  }
 ],
 "metadata": {
  "kernelspec": {
   "display_name": "Python 3 (ipykernel)",
   "language": "python",
   "name": "python3"
  },
  "language_info": {
   "codemirror_mode": {
    "name": "ipython",
    "version": 3
   },
   "file_extension": ".py",
   "mimetype": "text/x-python",
   "name": "python",
   "nbconvert_exporter": "python",
   "pygments_lexer": "ipython3",
   "version": "3.9.7"
  }
 },
 "nbformat": 4,
 "nbformat_minor": 5
}
