{
 "cells": [
  {
   "cell_type": "code",
   "execution_count": 4,
   "id": "22c4d1d0",
   "metadata": {},
   "outputs": [
    {
     "name": "stdout",
     "output_type": "stream",
     "text": [
      "Enter the number positive or negative-90\n",
      "Negative\n"
     ]
    }
   ],
   "source": [
    "num=int(input(\"Enter the number positive or negative\"))\n",
    "if num>0:\n",
    "    print(\"positive\")\n",
    "else:\n",
    "    print('Negative')"
   ]
  },
  {
   "cell_type": "code",
   "execution_count": 5,
   "id": "abe47b36",
   "metadata": {},
   "outputs": [],
   "source": [
    "# 5.Accept any city from the user and display \n",
    "# monument of that city.\n",
    "#                   City                                 Monument\n",
    "#                   Delhi                               Red Fort\n",
    "#                   Agra                                Taj Mahal\n",
    "#                   Jaipur                              Jal Mahal"
   ]
  },
  {
   "cell_type": "code",
   "execution_count": 13,
   "id": "84c39499",
   "metadata": {},
   "outputs": [
    {
     "name": "stdout",
     "output_type": "stream",
     "text": [
      "Enter the city Delhi,Agra or JaipurHyderabad\n",
      "Invalid input\n"
     ]
    }
   ],
   "source": [
    "city = input(\"Enter the city Delhi,Agra or Jaipur\")\n",
    "if city=='Delhi':\n",
    "    print('Red Fort')\n",
    "elif city == 'Agra':\n",
    "    print('Taj Mahal')\n",
    "elif city == 'Jaipur':\n",
    "    print('Jal Mahal')\n",
    "else:\n",
    "    print('Invalid input')"
   ]
  },
  {
   "cell_type": "code",
   "execution_count": null,
   "id": "ad421d7a",
   "metadata": {},
   "outputs": [],
   "source": []
  }
 ],
 "metadata": {
  "kernelspec": {
   "display_name": "Python 3 (ipykernel)",
   "language": "python",
   "name": "python3"
  },
  "language_info": {
   "codemirror_mode": {
    "name": "ipython",
    "version": 3
   },
   "file_extension": ".py",
   "mimetype": "text/x-python",
   "name": "python",
   "nbconvert_exporter": "python",
   "pygments_lexer": "ipython3",
   "version": "3.9.7"
  }
 },
 "nbformat": 4,
 "nbformat_minor": 5
}
