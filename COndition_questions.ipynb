{
 "cells": [
  {
   "cell_type": "code",
   "execution_count": 7,
   "id": "843e5532",
   "metadata": {},
   "outputs": [
    {
     "name": "stdout",
     "output_type": "stream",
     "text": [
      "Enetr the number99\n",
      "Odd number\n"
     ]
    }
   ],
   "source": [
    "#WAP to find odd and even numbers.\n",
    "x = int(input(\"Enetr the number\"))\n",
    "if x % 2 == 0:\n",
    "    print(\"Even number\")\n",
    "else:\n",
    "    print(\"Odd number\")"
   ]
  },
  {
   "cell_type": "code",
   "execution_count": 4,
   "id": "82e03a6b",
   "metadata": {},
   "outputs": [
    {
     "name": "stdout",
     "output_type": "stream",
     "text": [
      "1\n"
     ]
    }
   ],
   "source": [
    "# % = mod operator\n",
    "a=21\n",
    "b=4\n",
    "c = a%b\n",
    "print(c)"
   ]
  },
  {
   "cell_type": "code",
   "execution_count": 10,
   "id": "1cd12c6e",
   "metadata": {},
   "outputs": [
    {
     "name": "stdout",
     "output_type": "stream",
     "text": [
      "Enter the number24\n",
      "Even number\n"
     ]
    }
   ],
   "source": [
    "x = int(input(\"Enter the number\"))\n",
    "if x % 2 != 0:\n",
    "    print(\"ODD number\")\n",
    "else:\n",
    "    print(\"Even number\")"
   ]
  },
  {
   "cell_type": "code",
   "execution_count": 12,
   "id": "66d9c01b",
   "metadata": {},
   "outputs": [
    {
     "name": "stdout",
     "output_type": "stream",
     "text": [
      "10\n"
     ]
    }
   ],
   "source": [
    "# == ------> equal to \n",
    "# = ----> assignment operator\n",
    "# a==10\n",
    "# != -----> not equal to\n",
    "\n",
    "\n",
    "\n",
    "a = 10 \n",
    "print(a)"
   ]
  },
  {
   "cell_type": "code",
   "execution_count": 15,
   "id": "00791fee",
   "metadata": {},
   "outputs": [
    {
     "name": "stdout",
     "output_type": "stream",
     "text": [
      "False\n"
     ]
    }
   ],
   "source": [
    "# ==\n",
    "a = 12\n",
    "b = 19\n",
    "c = a==b\n",
    "print(c)"
   ]
  },
  {
   "cell_type": "code",
   "execution_count": 17,
   "id": "cf7140a9",
   "metadata": {},
   "outputs": [
    {
     "name": "stdout",
     "output_type": "stream",
     "text": [
      "True\n"
     ]
    }
   ],
   "source": [
    "# !=---> not equal to\n",
    "a=10\n",
    "b=18\n",
    "c=a!=b\n",
    "print(c)"
   ]
  },
  {
   "cell_type": "code",
   "execution_count": 20,
   "id": "050f7e1c",
   "metadata": {},
   "outputs": [
    {
     "name": "stdout",
     "output_type": "stream",
     "text": [
      "1000\n",
      "7\n",
      "bonus\n"
     ]
    }
   ],
   "source": [
    "employesalary= int(input())\n",
    "yearofservice= int(input())\n",
    "\n",
    "if yearofservice>=5:\n",
    "    bonus=(employesalary+5)*100\n",
    "    print(\"bonus\")\n"
   ]
  },
  {
   "cell_type": "code",
   "execution_count": 26,
   "id": "c67502c1",
   "metadata": {},
   "outputs": [
    {
     "name": "stdout",
     "output_type": "stream",
     "text": [
      "Enter the salary1000\n",
      "Enter the service8\n",
      "bonus 150.0\n"
     ]
    }
   ],
   "source": [
    "salary = int(input(\"Enter the salary\"))\n",
    "service = int(input(\"Enter the service\"))\n",
    "if service>5:\n",
    "    bonus = (salary * 5 / 100)+100\n",
    "    print(\"bonus\",bonus)\n",
    "else:\n",
    "    print(\"No bonus\")"
   ]
  },
  {
   "cell_type": "code",
   "execution_count": 25,
   "id": "2877c77c",
   "metadata": {},
   "outputs": [
    {
     "name": "stdout",
     "output_type": "stream",
     "text": [
      "working years7\n",
      "salary of employee8000\n",
      "400.0\n"
     ]
    }
   ],
   "source": [
    "a=int(input(\"working years\"))\n",
    "b=int(input(\"salary of employee\"))\n",
    "c=(5/100)*b\n",
    "if a>5:\n",
    "    print(c)\n",
    "else:\n",
    "    print(\"working year less than 5 year\")\n"
   ]
  },
  {
   "cell_type": "code",
   "execution_count": 28,
   "id": "5e3138e8",
   "metadata": {},
   "outputs": [
    {
     "name": "stdout",
     "output_type": "stream",
     "text": [
      "length4\n",
      "breadth4\n",
      "square\n"
     ]
    }
   ],
   "source": [
    "a= int(input(\"length\"))\n",
    "b= int(input(\"breadth\"))\n",
    "if a==b:\n",
    "    print(\"square\")\n",
    "else:\n",
    "    print(\"rectangle\")\n"
   ]
  },
  {
   "cell_type": "code",
   "execution_count": 33,
   "id": "5b41479e",
   "metadata": {},
   "outputs": [
    {
     "name": "stdout",
     "output_type": "stream",
     "text": [
      "marks59\n",
      "C\n",
      "A\n"
     ]
    }
   ],
   "source": [
    "a= int(input(\"marks\"))\n",
    "\n",
    "if a<25: print(\"F\")\n",
    "if 25<a<45: print(\"E\")\n",
    "if 45<a<50: print(\"D\")\n",
    "if 50<a<60: print(\"C\")\n",
    "if 60<a<80: print(\"B\")\n",
    "else:print(\"A\")\n",
    "# if a>80: print(\"A\")"
   ]
  },
  {
   "cell_type": "code",
   "execution_count": 38,
   "id": "f300b39c",
   "metadata": {},
   "outputs": [
    {
     "name": "stdout",
     "output_type": "stream",
     "text": [
      "Enter the marks56\n",
      "C\n"
     ]
    }
   ],
   "source": [
    "a= int(input(\"Enter the marks\"))\n",
    "if a>80:\n",
    "    print(\"A\")\n",
    "elif 60<a<80:\n",
    "    print(\"B\")\n",
    "elif 50<a<60:\n",
    "    print(\"C\")\n",
    "elif 45<a<50:\n",
    "    print(\"D\")\n",
    "elif 25<a<45:\n",
    "    print(\"E\")\n",
    "elif a<25:\n",
    "    print(\"F\")"
   ]
  },
  {
   "cell_type": "code",
   "execution_count": 39,
   "id": "f9ec9ced",
   "metadata": {},
   "outputs": [
    {
     "name": "stdout",
     "output_type": "stream",
     "text": [
      "enter marks56\n",
      "grade is C\n"
     ]
    }
   ],
   "source": [
    "marks=int(input(\"enter marks\"))\n",
    "if marks<25:\n",
    "    print(\"grade is F\")\n",
    "    \n",
    "elif marks>25 and marks<45:\n",
    "    print(\"grade is E\")\n",
    "    \n",
    "elif marks>45 and marks<50:\n",
    "    print(\"grade is D\")\n",
    "    \n",
    "elif marks>50 and marks<60:\n",
    "    print(\"grade is C\")\n",
    "    \n",
    "elif marks>60 and marks<80:\n",
    "    print(\"grade is B\")\n",
    "    \n",
    "elif marks>80:\n",
    "    print(\"grade is A\")"
   ]
  },
  {
   "cell_type": "code",
   "execution_count": null,
   "id": "89603ff8",
   "metadata": {},
   "outputs": [],
   "source": []
  }
 ],
 "metadata": {
  "kernelspec": {
   "display_name": "Python 3",
   "language": "python",
   "name": "python3"
  },
  "language_info": {
   "codemirror_mode": {
    "name": "ipython",
    "version": 3
   },
   "file_extension": ".py",
   "mimetype": "text/x-python",
   "name": "python",
   "nbconvert_exporter": "python",
   "pygments_lexer": "ipython3",
   "version": "3.8.8"
  }
 },
 "nbformat": 4,
 "nbformat_minor": 5
}
