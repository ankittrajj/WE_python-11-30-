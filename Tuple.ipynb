{
 "cells": [
  {
   "cell_type": "code",
   "execution_count": 2,
   "id": "9d58a12e",
   "metadata": {},
   "outputs": [
    {
     "name": "stdout",
     "output_type": "stream",
     "text": [
      "[100, 90, 88, 67]\n"
     ]
    }
   ],
   "source": [
    "a=[100,90,78,45,23,12,88,67]\n",
    "n=4\n",
    "for i in range(n):\n",
    "    a.remove(a[2])\n",
    "print(a)"
   ]
  },
  {
   "cell_type": "code",
   "execution_count": 3,
   "id": "e4478e1e",
   "metadata": {},
   "outputs": [],
   "source": [
    "#tuple----->(),[]\n",
    "a=(10,78,67,89)"
   ]
  },
  {
   "cell_type": "code",
   "execution_count": 4,
   "id": "3e67b8d2",
   "metadata": {},
   "outputs": [
    {
     "name": "stdout",
     "output_type": "stream",
     "text": [
      "(10, 78, 67, 89)\n"
     ]
    }
   ],
   "source": [
    "print(a)"
   ]
  },
  {
   "cell_type": "code",
   "execution_count": 5,
   "id": "66115292",
   "metadata": {},
   "outputs": [
    {
     "data": {
      "text/plain": [
       "tuple"
      ]
     },
     "execution_count": 5,
     "metadata": {},
     "output_type": "execute_result"
    }
   ],
   "source": [
    "type(a)"
   ]
  },
  {
   "cell_type": "code",
   "execution_count": 6,
   "id": "89d8269d",
   "metadata": {},
   "outputs": [],
   "source": [
    "a = 90,78,56,34"
   ]
  },
  {
   "cell_type": "code",
   "execution_count": 7,
   "id": "e7af57c1",
   "metadata": {},
   "outputs": [
    {
     "name": "stdout",
     "output_type": "stream",
     "text": [
      "(90, 78, 56, 34)\n"
     ]
    }
   ],
   "source": [
    "print(a)"
   ]
  },
  {
   "cell_type": "code",
   "execution_count": 8,
   "id": "9ccd9d0c",
   "metadata": {},
   "outputs": [
    {
     "data": {
      "text/plain": [
       "tuple"
      ]
     },
     "execution_count": 8,
     "metadata": {},
     "output_type": "execute_result"
    }
   ],
   "source": [
    "type(a)"
   ]
  },
  {
   "cell_type": "code",
   "execution_count": 9,
   "id": "b14fbc18",
   "metadata": {},
   "outputs": [],
   "source": [
    "#string\n",
    "a = ('123','shyam','sumit','divya','anshu','ankit')"
   ]
  },
  {
   "cell_type": "code",
   "execution_count": 10,
   "id": "d0edf0de",
   "metadata": {},
   "outputs": [
    {
     "data": {
      "text/plain": [
       "('123', 'shyam', 'sumit', 'divya', 'anshu', 'ankit')"
      ]
     },
     "execution_count": 10,
     "metadata": {},
     "output_type": "execute_result"
    }
   ],
   "source": [
    "a"
   ]
  },
  {
   "cell_type": "code",
   "execution_count": 11,
   "id": "5e129e33",
   "metadata": {},
   "outputs": [
    {
     "data": {
      "text/plain": [
       "tuple"
      ]
     },
     "execution_count": 11,
     "metadata": {},
     "output_type": "execute_result"
    }
   ],
   "source": [
    "type(a)"
   ]
  },
  {
   "cell_type": "code",
   "execution_count": 12,
   "id": "09edf965",
   "metadata": {},
   "outputs": [],
   "source": [
    "a = '123','shyam','sumit','divya','anshu','ankit'"
   ]
  },
  {
   "cell_type": "code",
   "execution_count": 13,
   "id": "3ecd9f37",
   "metadata": {},
   "outputs": [
    {
     "data": {
      "text/plain": [
       "('123', 'shyam', 'sumit', 'divya', 'anshu', 'ankit')"
      ]
     },
     "execution_count": 13,
     "metadata": {},
     "output_type": "execute_result"
    }
   ],
   "source": [
    "a"
   ]
  },
  {
   "cell_type": "code",
   "execution_count": 14,
   "id": "e605ab54",
   "metadata": {},
   "outputs": [
    {
     "data": {
      "text/plain": [
       "tuple"
      ]
     },
     "execution_count": 14,
     "metadata": {},
     "output_type": "execute_result"
    }
   ],
   "source": [
    "type(a)"
   ]
  },
  {
   "cell_type": "code",
   "execution_count": 15,
   "id": "f8c40333",
   "metadata": {},
   "outputs": [],
   "source": [
    "# mix---->\n",
    "x = (123,'string',True,45.89)"
   ]
  },
  {
   "cell_type": "code",
   "execution_count": 16,
   "id": "3d9ffb04",
   "metadata": {},
   "outputs": [
    {
     "data": {
      "text/plain": [
       "(123, 'string', True, 45.89)"
      ]
     },
     "execution_count": 16,
     "metadata": {},
     "output_type": "execute_result"
    }
   ],
   "source": [
    "x"
   ]
  },
  {
   "cell_type": "code",
   "execution_count": 17,
   "id": "a2837708",
   "metadata": {},
   "outputs": [
    {
     "data": {
      "text/plain": [
       "tuple"
      ]
     },
     "execution_count": 17,
     "metadata": {},
     "output_type": "execute_result"
    }
   ],
   "source": [
    "type(x)"
   ]
  },
  {
   "cell_type": "code",
   "execution_count": 18,
   "id": "7bda4892",
   "metadata": {},
   "outputs": [
    {
     "data": {
      "text/plain": [
       "('123', 'shyam', 'sumit', 'divya', 'anshu', 'ankit')"
      ]
     },
     "execution_count": 18,
     "metadata": {},
     "output_type": "execute_result"
    }
   ],
   "source": [
    "a"
   ]
  },
  {
   "cell_type": "code",
   "execution_count": 19,
   "id": "50ec26c6",
   "metadata": {},
   "outputs": [
    {
     "ename": "TypeError",
     "evalue": "'tuple' object is not callable",
     "output_type": "error",
     "traceback": [
      "\u001b[1;31m---------------------------------------------------------------------------\u001b[0m",
      "\u001b[1;31mTypeError\u001b[0m                                 Traceback (most recent call last)",
      "\u001b[1;32m~\\AppData\\Local\\Temp/ipykernel_11364/3695715442.py\u001b[0m in \u001b[0;36m<module>\u001b[1;34m\u001b[0m\n\u001b[0;32m      1\u001b[0m \u001b[1;31m#slicing & index\u001b[0m\u001b[1;33m\u001b[0m\u001b[1;33m\u001b[0m\u001b[0m\n\u001b[1;32m----> 2\u001b[1;33m \u001b[0ma\u001b[0m\u001b[1;33m(\u001b[0m\u001b[1;36m2\u001b[0m\u001b[1;33m)\u001b[0m\u001b[1;33m\u001b[0m\u001b[1;33m\u001b[0m\u001b[0m\n\u001b[0m",
      "\u001b[1;31mTypeError\u001b[0m: 'tuple' object is not callable"
     ]
    }
   ],
   "source": [
    "#slicing & index\n",
    "a(2)"
   ]
  },
  {
   "cell_type": "code",
   "execution_count": 20,
   "id": "23954660",
   "metadata": {},
   "outputs": [
    {
     "data": {
      "text/plain": [
       "'sumit'"
      ]
     },
     "execution_count": 20,
     "metadata": {},
     "output_type": "execute_result"
    }
   ],
   "source": [
    "a[2]"
   ]
  },
  {
   "cell_type": "code",
   "execution_count": 21,
   "id": "c6e3cb8a",
   "metadata": {},
   "outputs": [
    {
     "data": {
      "text/plain": [
       "('123', 'shyam', 'sumit', 'divya', 'anshu', 'ankit')"
      ]
     },
     "execution_count": 21,
     "metadata": {},
     "output_type": "execute_result"
    }
   ],
   "source": [
    "a"
   ]
  },
  {
   "cell_type": "code",
   "execution_count": 22,
   "id": "61096b5e",
   "metadata": {},
   "outputs": [
    {
     "data": {
      "text/plain": [
       "('sumit', 'divya', 'anshu')"
      ]
     },
     "execution_count": 22,
     "metadata": {},
     "output_type": "execute_result"
    }
   ],
   "source": [
    "#slicing\n",
    "a[2:5]"
   ]
  },
  {
   "cell_type": "code",
   "execution_count": 23,
   "id": "c529f90e",
   "metadata": {},
   "outputs": [
    {
     "data": {
      "text/plain": [
       "('123', 'shyam', 'sumit', 'divya', 'anshu', 'ankit')"
      ]
     },
     "execution_count": 23,
     "metadata": {},
     "output_type": "execute_result"
    }
   ],
   "source": [
    "#alternate print\n",
    "a"
   ]
  },
  {
   "cell_type": "code",
   "execution_count": 24,
   "id": "01419388",
   "metadata": {},
   "outputs": [
    {
     "data": {
      "text/plain": [
       "('123', 'sumit', 'anshu')"
      ]
     },
     "execution_count": 24,
     "metadata": {},
     "output_type": "execute_result"
    }
   ],
   "source": [
    "a[0:6:2]"
   ]
  },
  {
   "cell_type": "code",
   "execution_count": 25,
   "id": "6188a581",
   "metadata": {},
   "outputs": [
    {
     "data": {
      "text/plain": [
       "('123', 'shyam', 'sumit', 'divya', 'anshu', 'ankit')"
      ]
     },
     "execution_count": 25,
     "metadata": {},
     "output_type": "execute_result"
    }
   ],
   "source": [
    "#diff.\n",
    "a"
   ]
  },
  {
   "cell_type": "code",
   "execution_count": 26,
   "id": "960c0efc",
   "metadata": {},
   "outputs": [
    {
     "ename": "TypeError",
     "evalue": "'tuple' object does not support item assignment",
     "output_type": "error",
     "traceback": [
      "\u001b[1;31m---------------------------------------------------------------------------\u001b[0m",
      "\u001b[1;31mTypeError\u001b[0m                                 Traceback (most recent call last)",
      "\u001b[1;32m~\\AppData\\Local\\Temp/ipykernel_11364/3317935699.py\u001b[0m in \u001b[0;36m<module>\u001b[1;34m\u001b[0m\n\u001b[1;32m----> 1\u001b[1;33m \u001b[0ma\u001b[0m\u001b[1;33m[\u001b[0m\u001b[1;36m0\u001b[0m\u001b[1;33m]\u001b[0m\u001b[1;33m=\u001b[0m\u001b[1;36m100\u001b[0m\u001b[1;33m\u001b[0m\u001b[1;33m\u001b[0m\u001b[0m\n\u001b[0m",
      "\u001b[1;31mTypeError\u001b[0m: 'tuple' object does not support item assignment"
     ]
    }
   ],
   "source": [
    "a[0]=100"
   ]
  },
  {
   "cell_type": "code",
   "execution_count": 27,
   "id": "8c62dcb6",
   "metadata": {},
   "outputs": [
    {
     "data": {
      "text/plain": [
       "('123', 'shyam', 'sumit', 'divya', 'anshu', 'ankit')"
      ]
     },
     "execution_count": 27,
     "metadata": {},
     "output_type": "execute_result"
    }
   ],
   "source": [
    "# method\n",
    "# count\n",
    "# index\n",
    "a"
   ]
  },
  {
   "cell_type": "code",
   "execution_count": 28,
   "id": "7f87b3e8",
   "metadata": {},
   "outputs": [],
   "source": [
    "c = (1,2,3,90,89,90,87,56)"
   ]
  },
  {
   "cell_type": "code",
   "execution_count": 29,
   "id": "f228092f",
   "metadata": {},
   "outputs": [
    {
     "data": {
      "text/plain": [
       "(1, 2, 3, 90, 89, 90, 87, 56)"
      ]
     },
     "execution_count": 29,
     "metadata": {},
     "output_type": "execute_result"
    }
   ],
   "source": [
    "c"
   ]
  },
  {
   "cell_type": "code",
   "execution_count": 30,
   "id": "c9a4c41a",
   "metadata": {},
   "outputs": [
    {
     "data": {
      "text/plain": [
       "tuple"
      ]
     },
     "execution_count": 30,
     "metadata": {},
     "output_type": "execute_result"
    }
   ],
   "source": [
    "type(c)"
   ]
  },
  {
   "cell_type": "code",
   "execution_count": 31,
   "id": "67e05b08",
   "metadata": {},
   "outputs": [
    {
     "data": {
      "text/plain": [
       "(1, 2, 3, 90, 89, 90, 87, 56)"
      ]
     },
     "execution_count": 31,
     "metadata": {},
     "output_type": "execute_result"
    }
   ],
   "source": [
    "c"
   ]
  },
  {
   "cell_type": "code",
   "execution_count": 35,
   "id": "3a5e1f59",
   "metadata": {},
   "outputs": [
    {
     "data": {
      "text/plain": [
       "1"
      ]
     },
     "execution_count": 35,
     "metadata": {},
     "output_type": "execute_result"
    }
   ],
   "source": [
    "c.count(1)"
   ]
  },
  {
   "cell_type": "code",
   "execution_count": 36,
   "id": "fcf704b9",
   "metadata": {},
   "outputs": [
    {
     "data": {
      "text/plain": [
       "(1, 2, 3, 90, 89, 90, 87, 56)"
      ]
     },
     "execution_count": 36,
     "metadata": {},
     "output_type": "execute_result"
    }
   ],
   "source": [
    "#index\n",
    "c"
   ]
  },
  {
   "cell_type": "code",
   "execution_count": 41,
   "id": "320c8f0c",
   "metadata": {},
   "outputs": [
    {
     "data": {
      "text/plain": [
       "3"
      ]
     },
     "execution_count": 41,
     "metadata": {},
     "output_type": "execute_result"
    }
   ],
   "source": [
    "c.index(90)"
   ]
  },
  {
   "cell_type": "code",
   "execution_count": 56,
   "id": "1811382e",
   "metadata": {},
   "outputs": [
    {
     "ename": "SyntaxError",
     "evalue": "invalid syntax (Temp/ipykernel_11364/2103020387.py, line 20)",
     "output_type": "error",
     "traceback": [
      "\u001b[1;36m  File \u001b[1;32m\"C:\\Users\\ddugky\\AppData\\Local\\Temp/ipykernel_11364/2103020387.py\"\u001b[1;36m, line \u001b[1;32m20\u001b[0m\n\u001b[1;33m    if a==item[]:\u001b[0m\n\u001b[1;37m               ^\u001b[0m\n\u001b[1;31mSyntaxError\u001b[0m\u001b[1;31m:\u001b[0m invalid syntax\n"
     ]
    }
   ],
   "source": [
    "# index\n",
    "# a=10\n",
    "#1.wap to store 5 fruits items in a list.\n",
    "\n",
    "#2.wap to display marks of 3 students and display them in \n",
    "# sorted way.\n",
    "\n",
    "#3.check tuple is mutable or not?\n",
    "\n",
    "#4.wap to add a list of 4 no.\n",
    "\n",
    "#5.wap to count no. of 7 in tuple\n",
    "# tuple = (7,77,-77,777,70,-70,7777,-7777)\n",
    "\n",
    "# 6.check if the item is present in the list or not?\n",
    "# items = ['python','java','ai','js']\n",
    "\n",
    "a=input('any object')\n",
    "item=['python','java','ai','js']\n",
    "if a==item[]:\n",
    "    print(\"with in the item\")\n",
    "else:\n",
    "    print('not in the list')\n"
   ]
  },
  {
   "cell_type": "code",
   "execution_count": 55,
   "id": "05427503",
   "metadata": {},
   "outputs": [
    {
     "ename": "SyntaxError",
     "evalue": "invalid syntax (Temp/ipykernel_11364/2191003967.py, line 3)",
     "output_type": "error",
     "traceback": [
      "\u001b[1;36m  File \u001b[1;32m\"C:\\Users\\ddugky\\AppData\\Local\\Temp/ipykernel_11364/2191003967.py\"\u001b[1;36m, line \u001b[1;32m3\u001b[0m\n\u001b[1;33m    if i == item[]:\u001b[0m\n\u001b[1;37m                 ^\u001b[0m\n\u001b[1;31mSyntaxError\u001b[0m\u001b[1;31m:\u001b[0m invalid syntax\n"
     ]
    }
   ],
   "source": [
    "item=['python','java','ai','js']\n",
    "for i in item:\n",
    "    if i == item[0]:\n",
    "        print('Yes')\n",
    "    else:\n",
    "        print('NO')\n",
    "#     print(i)"
   ]
  },
  {
   "cell_type": "code",
   "execution_count": 54,
   "id": "cb8c107d",
   "metadata": {},
   "outputs": [
    {
     "name": "stdout",
     "output_type": "stream",
     "text": [
      "Yes\n"
     ]
    }
   ],
   "source": [
    "item=['python','java','ai','js']\n",
    "if item== 'python'or'java'or'ai'or'js':\n",
    "    print('Yes')\n",
    "else:\n",
    "    print('No')"
   ]
  },
  {
   "cell_type": "code",
   "execution_count": 64,
   "id": "c44fbc48",
   "metadata": {},
   "outputs": [
    {
     "ename": "SyntaxError",
     "evalue": "invalid syntax (Temp/ipykernel_11364/1513755123.py, line 3)",
     "output_type": "error",
     "traceback": [
      "\u001b[1;36m  File \u001b[1;32m\"C:\\Users\\ddugky\\AppData\\Local\\Temp/ipykernel_11364/1513755123.py\"\u001b[1;36m, line \u001b[1;32m3\u001b[0m\n\u001b[1;33m    if a=='python'='java'or'ai'or'js':\u001b[0m\n\u001b[1;37m                  ^\u001b[0m\n\u001b[1;31mSyntaxError\u001b[0m\u001b[1;31m:\u001b[0m invalid syntax\n"
     ]
    }
   ],
   "source": [
    "a=input('any object')\n",
    "item=['python','java','ai','js']\n",
    "if a=='python'or'java'or'ai'or'js':\n",
    "    print(\"with in the item\")\n",
    "else:\n",
    "    print('not in the list')"
   ]
  },
  {
   "cell_type": "code",
   "execution_count": 63,
   "id": "7de17e9e",
   "metadata": {},
   "outputs": [
    {
     "name": "stdout",
     "output_type": "stream",
     "text": [
      "english\n",
      "found\n"
     ]
    }
   ],
   "source": [
    "item=['python','java','ai','js']\n",
    "# item.index('java')\n",
    "i=input()\n",
    "if i== \"pyhon\" or\"java\" or 'ai' or'js':\n",
    "    print ('found')\n",
    "else:\n",
    "    print('not found')\n"
   ]
  },
  {
   "cell_type": "code",
   "execution_count": 69,
   "id": "d2250fa6",
   "metadata": {},
   "outputs": [
    {
     "name": "stdout",
     "output_type": "stream",
     "text": [
      "typeenglish\n",
      "found\n"
     ]
    }
   ],
   "source": [
    "item=input(\"type\")\n",
    "item= ['python','java','ai','js']\n",
    "if item== 'python' or 'java' or 'ai' or 'js':\n",
    "    print(\"found\")\n",
    "else:\n",
    "    print(\"no\")\n"
   ]
  },
  {
   "cell_type": "code",
   "execution_count": 70,
   "id": "5f75e42f",
   "metadata": {},
   "outputs": [
    {
     "name": "stdout",
     "output_type": "stream",
     "text": [
      "10\n"
     ]
    }
   ],
   "source": [
    "#add no. in list\n",
    "a=[1,2,3,4]\n",
    "add = a[0]+a[1]+a[2]+a[3]\n",
    "print(add)"
   ]
  },
  {
   "cell_type": "code",
   "execution_count": 72,
   "id": "b4ebbb27",
   "metadata": {},
   "outputs": [
    {
     "name": "stdout",
     "output_type": "stream",
     "text": [
      "10\n"
     ]
    }
   ],
   "source": [
    "#add \n",
    "a=[1,2,3,4]\n",
    "add = sum(a)\n",
    "print(add)"
   ]
  },
  {
   "cell_type": "code",
   "execution_count": 75,
   "id": "30ea4b8a",
   "metadata": {},
   "outputs": [
    {
     "name": "stdout",
     "output_type": "stream",
     "text": [
      "368\n"
     ]
    }
   ],
   "source": [
    "#for loop\n",
    "total = 0\n",
    "a=[1,2,3,4,90,100,89,45,34]\n",
    "# len(a)\n",
    "for i in range(0,len(a)):\n",
    "    total = total+a[i]\n",
    "print(total)"
   ]
  },
  {
   "cell_type": "code",
   "execution_count": 78,
   "id": "62957b6f",
   "metadata": {},
   "outputs": [
    {
     "data": {
      "text/plain": [
       "2"
      ]
     },
     "execution_count": 78,
     "metadata": {},
     "output_type": "execute_result"
    }
   ],
   "source": [
    "a=(7,77,-77,777,70,-70,7777,-7777,7,-7)\n",
    "a.count(7)"
   ]
  },
  {
   "cell_type": "code",
   "execution_count": null,
   "id": "63ab787c",
   "metadata": {},
   "outputs": [],
   "source": []
  }
 ],
 "metadata": {
  "kernelspec": {
   "display_name": "Python 3 (ipykernel)",
   "language": "python",
   "name": "python3"
  },
  "language_info": {
   "codemirror_mode": {
    "name": "ipython",
    "version": 3
   },
   "file_extension": ".py",
   "mimetype": "text/x-python",
   "name": "python",
   "nbconvert_exporter": "python",
   "pygments_lexer": "ipython3",
   "version": "3.9.7"
  }
 },
 "nbformat": 4,
 "nbformat_minor": 5
}
