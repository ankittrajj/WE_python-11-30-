{
 "cells": [
  {
   "cell_type": "code",
   "execution_count": 6,
   "id": "70579225",
   "metadata": {},
   "outputs": [],
   "source": [
    "#dict----->key- value pair\n",
    "x=[2,3,4]\n",
    "y=(2,3,4)\n",
    "\n",
    "a = {\n",
    "    'name':'abc',\n",
    "     'marks':34,\n",
    "     'age':12\n",
    "    }\n",
    "    \n",
    "\n"
   ]
  },
  {
   "cell_type": "code",
   "execution_count": 7,
   "id": "7da4f700",
   "metadata": {},
   "outputs": [
    {
     "data": {
      "text/plain": [
       "{'name': 'abc', 'marks': 34, 'age': 12}"
      ]
     },
     "execution_count": 7,
     "metadata": {},
     "output_type": "execute_result"
    }
   ],
   "source": [
    "a"
   ]
  },
  {
   "cell_type": "code",
   "execution_count": 8,
   "id": "01fb611c",
   "metadata": {},
   "outputs": [
    {
     "data": {
      "text/plain": [
       "dict"
      ]
     },
     "execution_count": 8,
     "metadata": {},
     "output_type": "execute_result"
    }
   ],
   "source": [
    "type(a)"
   ]
  },
  {
   "cell_type": "code",
   "execution_count": 11,
   "id": "24088846",
   "metadata": {},
   "outputs": [],
   "source": [
    "a = {\n",
    "    'name':['abc','xyz','qwe','rty'],\n",
    "     'marks':(34,45,67,89),\n",
    "     'age':(12,56,23,45)\n",
    "    }"
   ]
  },
  {
   "cell_type": "code",
   "execution_count": 12,
   "id": "23c85681",
   "metadata": {},
   "outputs": [
    {
     "data": {
      "text/plain": [
       "{'name': ['abc', 'xyz', 'qwe', 'rty'],\n",
       " 'marks': (34, 45, 67, 89),\n",
       " 'age': (12, 56, 23, 45)}"
      ]
     },
     "execution_count": 12,
     "metadata": {},
     "output_type": "execute_result"
    }
   ],
   "source": [
    "a"
   ]
  },
  {
   "cell_type": "code",
   "execution_count": 13,
   "id": "319b5693",
   "metadata": {},
   "outputs": [
    {
     "data": {
      "text/plain": [
       "{'name': ['abc', 'xyz', 'qwe', 'rty'],\n",
       " 'marks': (34, 45, 67, 89),\n",
       " 'age': (12, 56, 23, 45)}"
      ]
     },
     "execution_count": 13,
     "metadata": {},
     "output_type": "execute_result"
    }
   ],
   "source": [
    "a"
   ]
  },
  {
   "cell_type": "code",
   "execution_count": 16,
   "id": "552f1a01",
   "metadata": {},
   "outputs": [
    {
     "data": {
      "text/plain": [
       "'xyz'"
      ]
     },
     "execution_count": 16,
     "metadata": {},
     "output_type": "execute_result"
    }
   ],
   "source": [
    "#dict ----> no index\n",
    "a['name'][1]"
   ]
  },
  {
   "cell_type": "code",
   "execution_count": 17,
   "id": "3c0759ed",
   "metadata": {},
   "outputs": [
    {
     "data": {
      "text/plain": [
       "{'name': ['abc', 'xyz', 'qwe', 'rty'],\n",
       " 'marks': (34, 45, 67, 89),\n",
       " 'age': (12, 56, 23, 45)}"
      ]
     },
     "execution_count": 17,
     "metadata": {},
     "output_type": "execute_result"
    }
   ],
   "source": [
    "#muttable or not ??\n",
    "a"
   ]
  },
  {
   "cell_type": "code",
   "execution_count": 20,
   "id": "8672d4fb",
   "metadata": {},
   "outputs": [],
   "source": [
    "a['name']=['devil','asd','cvb']"
   ]
  },
  {
   "cell_type": "code",
   "execution_count": 21,
   "id": "82b0bdd4",
   "metadata": {},
   "outputs": [
    {
     "data": {
      "text/plain": [
       "{'name': ['devil', 'asd', 'cvb'],\n",
       " 'marks': (34, 45, 67, 89),\n",
       " 'age': (12, 56, 23, 45)}"
      ]
     },
     "execution_count": 21,
     "metadata": {},
     "output_type": "execute_result"
    }
   ],
   "source": [
    "a"
   ]
  },
  {
   "cell_type": "code",
   "execution_count": 29,
   "id": "95df06ce",
   "metadata": {},
   "outputs": [],
   "source": [
    "a['name'][0]='angel'"
   ]
  },
  {
   "cell_type": "code",
   "execution_count": 30,
   "id": "37c036c2",
   "metadata": {},
   "outputs": [
    {
     "data": {
      "text/plain": [
       "{'name': ['angel', 'asd', 'cvb'], 'marks': 100, 'age': (12, 56, 23, 45)}"
      ]
     },
     "execution_count": 30,
     "metadata": {},
     "output_type": "execute_result"
    }
   ],
   "source": [
    "a"
   ]
  },
  {
   "cell_type": "code",
   "execution_count": 27,
   "id": "f832d677",
   "metadata": {},
   "outputs": [],
   "source": [
    "a['marks']=100"
   ]
  },
  {
   "cell_type": "code",
   "execution_count": 28,
   "id": "7a73dedf",
   "metadata": {},
   "outputs": [
    {
     "data": {
      "text/plain": [
       "{'name': ['angel', 'asd', 'cvb'], 'marks': 100, 'age': (12, 56, 23, 45)}"
      ]
     },
     "execution_count": 28,
     "metadata": {},
     "output_type": "execute_result"
    }
   ],
   "source": [
    "a"
   ]
  },
  {
   "cell_type": "code",
   "execution_count": 31,
   "id": "07ab27d1",
   "metadata": {},
   "outputs": [],
   "source": [
    "x={'name': ['abc', 'xyz', 'qwe', 'rty'],\n",
    " 'marks': (34, 45, 67, 89),\n",
    " 'age': (12, 56, 23, 45)\n",
    "  }"
   ]
  },
  {
   "cell_type": "code",
   "execution_count": 33,
   "id": "d9322556",
   "metadata": {},
   "outputs": [
    {
     "ename": "TypeError",
     "evalue": "'tuple' object does not support item assignment",
     "output_type": "error",
     "traceback": [
      "\u001b[1;31m---------------------------------------------------------------------------\u001b[0m",
      "\u001b[1;31mTypeError\u001b[0m                                 Traceback (most recent call last)",
      "\u001b[1;32m~\\AppData\\Local\\Temp/ipykernel_432/3193576923.py\u001b[0m in \u001b[0;36m<module>\u001b[1;34m\u001b[0m\n\u001b[1;32m----> 1\u001b[1;33m \u001b[0mx\u001b[0m\u001b[1;33m[\u001b[0m\u001b[1;34m'marks'\u001b[0m\u001b[1;33m]\u001b[0m\u001b[1;33m[\u001b[0m\u001b[1;36m0\u001b[0m\u001b[1;33m]\u001b[0m\u001b[1;33m=\u001b[0m\u001b[1;36m100\u001b[0m\u001b[1;33m\u001b[0m\u001b[1;33m\u001b[0m\u001b[0m\n\u001b[0m",
      "\u001b[1;31mTypeError\u001b[0m: 'tuple' object does not support item assignment"
     ]
    }
   ],
   "source": [
    "x['marks'][0]=100"
   ]
  },
  {
   "cell_type": "code",
   "execution_count": 34,
   "id": "89b265a1",
   "metadata": {},
   "outputs": [],
   "source": [
    "a = {\n",
    "    'name': ['abc', 'xyz', 'qwe', 'rty'],\n",
    "     'marks': (34, 45, 67, 89),\n",
    "     'age': (12, 56, 23, 45)\n",
    "    \n",
    "}"
   ]
  },
  {
   "cell_type": "code",
   "execution_count": 35,
   "id": "a2defa53",
   "metadata": {},
   "outputs": [
    {
     "data": {
      "text/plain": [
       "{'name': ['abc', 'xyz', 'qwe', 'rty'],\n",
       " 'marks': (34, 45, 67, 89),\n",
       " 'age': (12, 56, 23, 45)}"
      ]
     },
     "execution_count": 35,
     "metadata": {},
     "output_type": "execute_result"
    }
   ],
   "source": [
    "a"
   ]
  },
  {
   "cell_type": "code",
   "execution_count": 38,
   "id": "74654fc8",
   "metadata": {},
   "outputs": [
    {
     "data": {
      "text/plain": [
       "{'name': ['angel', 'xyz', 'qwe', 'rty'],\n",
       " 'marks': (4, 6, 8, 3),\n",
       " 'age': (14, 5, 8, 3)}"
      ]
     },
     "execution_count": 38,
     "metadata": {},
     "output_type": "execute_result"
    }
   ],
   "source": [
    "a={'name': ['angel', 'asd', 'cvd'],\n",
    " 'marks': (34, 45, 67, 89),\n",
    "'age': (12, 56, 23, 45)},\n",
    "\n",
    "{'name': ['angel', 'xyz', 'qwe', 'rty'],\n",
    " 'marks': (4,6,8,3),\n",
    " 'age': (14,5,8,3)}\n"
   ]
  },
  {
   "cell_type": "code",
   "execution_count": 39,
   "id": "54a24bf5",
   "metadata": {},
   "outputs": [
    {
     "data": {
      "text/plain": [
       "({'name': ['angel', 'asd', 'cvd'],\n",
       "  'marks': (34, 45, 67, 89),\n",
       "  'age': (12, 56, 23, 45)},)"
      ]
     },
     "execution_count": 39,
     "metadata": {},
     "output_type": "execute_result"
    }
   ],
   "source": [
    "a"
   ]
  },
  {
   "cell_type": "code",
   "execution_count": 43,
   "id": "015a7ca9",
   "metadata": {},
   "outputs": [],
   "source": [
    "a = {\n",
    "    'name': ['abc', 'xyz', 'qwe', 'rty'],\n",
    "     'marks': (34, 45, 67, 89),\n",
    "     'age': (12, 56, 23, 45),\n",
    "    'b':{\n",
    "        'age':34,\n",
    "        'name':['asd','xyz']\n",
    "    }\n",
    "    \n",
    "}"
   ]
  },
  {
   "cell_type": "code",
   "execution_count": 44,
   "id": "95cf9a34",
   "metadata": {},
   "outputs": [
    {
     "data": {
      "text/plain": [
       "{'name': ['abc', 'xyz', 'qwe', 'rty'],\n",
       " 'marks': (34, 45, 67, 89),\n",
       " 'age': (12, 56, 23, 45),\n",
       " 'b': {'age': 34, 'name': ['asd', 'xyz']}}"
      ]
     },
     "execution_count": 44,
     "metadata": {},
     "output_type": "execute_result"
    }
   ],
   "source": [
    "a"
   ]
  },
  {
   "cell_type": "code",
   "execution_count": 48,
   "id": "bba9800b",
   "metadata": {},
   "outputs": [
    {
     "data": {
      "text/plain": [
       "'xyz'"
      ]
     },
     "execution_count": 48,
     "metadata": {},
     "output_type": "execute_result"
    }
   ],
   "source": [
    "a['b']['name'][1]"
   ]
  },
  {
   "cell_type": "code",
   "execution_count": 50,
   "id": "51b48265",
   "metadata": {},
   "outputs": [],
   "source": [
    "a = {\n",
    "    'name': ['abc', 'xyz', 'qwe', 'rty'],\n",
    "     'marks': (34, 45, 67, 89),\n",
    "     'age': (12, 56, 23, 45),\n",
    "   ' b':{\n",
    "        'age':34,\n",
    "        'name':['asd','xyz'],\n",
    "        0:1,\n",
    "        0:'1'\n",
    "    }\n",
    "    \n",
    "}"
   ]
  },
  {
   "cell_type": "code",
   "execution_count": 55,
   "id": "58b9f0f4",
   "metadata": {},
   "outputs": [],
   "source": [
    "b={\n",
    "        'age':34,\n",
    "        'name':['asd','xyz'],\n",
    "        100:1,\n",
    "        0:'1',\n",
    "    1:'yes',\n",
    "    '0':'True'\n",
    "    }\n",
    "    "
   ]
  },
  {
   "cell_type": "code",
   "execution_count": 56,
   "id": "87de9c87",
   "metadata": {},
   "outputs": [
    {
     "data": {
      "text/plain": [
       "{'age': 34, 'name': ['asd', 'xyz'], 100: 1, 0: '1', 1: 'yes', '0': 'True'}"
      ]
     },
     "execution_count": 56,
     "metadata": {},
     "output_type": "execute_result"
    }
   ],
   "source": [
    "b"
   ]
  },
  {
   "cell_type": "code",
   "execution_count": 57,
   "id": "8a914c3e",
   "metadata": {},
   "outputs": [
    {
     "data": {
      "text/plain": [
       "1"
      ]
     },
     "execution_count": 57,
     "metadata": {},
     "output_type": "execute_result"
    }
   ],
   "source": [
    "b[100]"
   ]
  },
  {
   "cell_type": "code",
   "execution_count": 58,
   "id": "b4d49161",
   "metadata": {},
   "outputs": [
    {
     "data": {
      "text/plain": [
       "{'age': 34, 'name': ['asd', 'xyz'], 0: '1', 1: 'yes', '0': 'True'}"
      ]
     },
     "execution_count": 58,
     "metadata": {},
     "output_type": "execute_result"
    }
   ],
   "source": [
    "b={\n",
    "        'age':34,\n",
    "        'name':['asd','xyz'],\n",
    "        0:100,\n",
    "        0:'1',\n",
    "    1:'yes',\n",
    "    '0':'True'\n",
    "    }\n",
    "b\n",
    "    "
   ]
  },
  {
   "cell_type": "code",
   "execution_count": 59,
   "id": "b6c94373",
   "metadata": {},
   "outputs": [
    {
     "data": {
      "text/plain": [
       "'1'"
      ]
     },
     "execution_count": 59,
     "metadata": {},
     "output_type": "execute_result"
    }
   ],
   "source": [
    "b[0]"
   ]
  },
  {
   "cell_type": "code",
   "execution_count": 60,
   "id": "e6b17ae5",
   "metadata": {},
   "outputs": [
    {
     "data": {
      "text/plain": [
       "{'name': 'abc', 'm_salary': 20000, 'age': 23}"
      ]
     },
     "execution_count": 60,
     "metadata": {},
     "output_type": "execute_result"
    }
   ],
   "source": [
    "#wap to make a dict of emp. and ask the monthly salary and give\n",
    "# the o/p as annual income of a person/emp.\n",
    "\n",
    "#wap to find the avg marks of a student in different subject\n",
    "# using dic.\n",
    "\n",
    "# wap to sum 5 numbers in a list.\n",
    "# a=[1,2,3,4,5]\n",
    "\n",
    "emp = {\n",
    "    'name':'abc',\n",
    "    'm_salary':20000,\n",
    "    'age':23\n",
    "}\n",
    "emp"
   ]
  },
  {
   "cell_type": "code",
   "execution_count": 62,
   "id": "7b0d418a",
   "metadata": {},
   "outputs": [],
   "source": [
    "a_salary = emp['m_salary']*12"
   ]
  },
  {
   "cell_type": "code",
   "execution_count": 63,
   "id": "0be043e2",
   "metadata": {},
   "outputs": [
    {
     "data": {
      "text/plain": [
       "240000"
      ]
     },
     "execution_count": 63,
     "metadata": {},
     "output_type": "execute_result"
    }
   ],
   "source": [
    "a_salary"
   ]
  },
  {
   "cell_type": "code",
   "execution_count": 68,
   "id": "dff270f9",
   "metadata": {},
   "outputs": [],
   "source": [
    "student= {\n",
    "    'marks':(25,50,41)\n",
    "}\n",
    "total_marks = student['marks'][:] \n",
    "avg_marks = (total_marks[0]+total_marks[1]+total_marks[2])/3\n"
   ]
  },
  {
   "cell_type": "code",
   "execution_count": 69,
   "id": "8d9243db",
   "metadata": {},
   "outputs": [
    {
     "data": {
      "text/plain": [
       "38.666666666666664"
      ]
     },
     "execution_count": 69,
     "metadata": {},
     "output_type": "execute_result"
    }
   ],
   "source": [
    "avg_marks"
   ]
  },
  {
   "cell_type": "code",
   "execution_count": 70,
   "id": "fafd59ed",
   "metadata": {},
   "outputs": [
    {
     "name": "stdout",
     "output_type": "stream",
     "text": [
      "15\n"
     ]
    }
   ],
   "source": [
    "a=[1,2,3,4,5]\n",
    "b=a[0]+a[1]+a[2]+a[3]+a[4]\n",
    "print(b)\n"
   ]
  },
  {
   "cell_type": "code",
   "execution_count": 71,
   "id": "b8454644",
   "metadata": {},
   "outputs": [
    {
     "name": "stdout",
     "output_type": "stream",
     "text": [
      "15\n"
     ]
    }
   ],
   "source": [
    "a=[1,2,3,4,5]\n",
    "add = sum(a)\n",
    "print(add)"
   ]
  },
  {
   "cell_type": "code",
   "execution_count": 75,
   "id": "e2434217",
   "metadata": {},
   "outputs": [
    {
     "name": "stdout",
     "output_type": "stream",
     "text": [
      "15\n"
     ]
    }
   ],
   "source": [
    "#loop\n",
    "a=[1,2,3,4,5]\n",
    "total = 0\n",
    "for i in range(0,len(a)):\n",
    "    total=total+a[i]\n",
    "print(total)"
   ]
  },
  {
   "cell_type": "code",
   "execution_count": 82,
   "id": "06532f77",
   "metadata": {},
   "outputs": [
    {
     "name": "stdout",
     "output_type": "stream",
     "text": [
      "256\n"
     ]
    }
   ],
   "source": [
    "x = [10,20,30,40,89,67]\n",
    "total =0\n",
    "for i in range(0,len(x)):\n",
    "    total=total+x[i]\n",
    "print(total)"
   ]
  },
  {
   "cell_type": "code",
   "execution_count": 77,
   "id": "3b0ad571",
   "metadata": {},
   "outputs": [
    {
     "data": {
      "text/plain": [
       "4"
      ]
     },
     "execution_count": 77,
     "metadata": {},
     "output_type": "execute_result"
    }
   ],
   "source": [
    "len(x)"
   ]
  },
  {
   "cell_type": "code",
   "execution_count": null,
   "id": "bd3b3c8c",
   "metadata": {},
   "outputs": [],
   "source": [
    "#wap and add 5 number in a list!!"
   ]
  }
 ],
 "metadata": {
  "kernelspec": {
   "display_name": "Python 3 (ipykernel)",
   "language": "python",
   "name": "python3"
  },
  "language_info": {
   "codemirror_mode": {
    "name": "ipython",
    "version": 3
   },
   "file_extension": ".py",
   "mimetype": "text/x-python",
   "name": "python",
   "nbconvert_exporter": "python",
   "pygments_lexer": "ipython3",
   "version": "3.9.7"
  }
 },
 "nbformat": 4,
 "nbformat_minor": 5
}
