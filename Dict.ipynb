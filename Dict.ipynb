{
 "cells": [
  {
   "cell_type": "code",
   "execution_count": 1,
   "id": "70579225",
   "metadata": {},
   "outputs": [],
   "source": [
    "#dict----->key- value pair\n",
    "x=[2,3,4]\n",
    "y=(2,3,4)\n",
    "\n",
    "a = {\n",
    "    'name':'abc',\n",
    "     'marks':34,\n",
    "     'age':12\n",
    "    }\n",
    "    \n",
    "\n"
   ]
  },
  {
   "cell_type": "code",
   "execution_count": 2,
   "id": "7da4f700",
   "metadata": {},
   "outputs": [
    {
     "data": {
      "text/plain": [
       "{'name': 'abc', 'marks': 34, 'age': 12}"
      ]
     },
     "execution_count": 2,
     "metadata": {},
     "output_type": "execute_result"
    }
   ],
   "source": [
    "a"
   ]
  },
  {
   "cell_type": "code",
   "execution_count": 3,
   "id": "01fb611c",
   "metadata": {},
   "outputs": [
    {
     "data": {
      "text/plain": [
       "dict"
      ]
     },
     "execution_count": 3,
     "metadata": {},
     "output_type": "execute_result"
    }
   ],
   "source": [
    "type(a)"
   ]
  },
  {
   "cell_type": "code",
   "execution_count": 4,
   "id": "24088846",
   "metadata": {},
   "outputs": [],
   "source": [
    "a = {\n",
    "    'name':['abc','xyz','qwe','rty'],\n",
    "     'marks':(34,45,67,89),\n",
    "     'age':(12,56,23,45)\n",
    "    }"
   ]
  },
  {
   "cell_type": "code",
   "execution_count": 5,
   "id": "23c85681",
   "metadata": {},
   "outputs": [
    {
     "data": {
      "text/plain": [
       "{'name': ['abc', 'xyz', 'qwe', 'rty'],\n",
       " 'marks': (34, 45, 67, 89),\n",
       " 'age': (12, 56, 23, 45)}"
      ]
     },
     "execution_count": 5,
     "metadata": {},
     "output_type": "execute_result"
    }
   ],
   "source": [
    "a"
   ]
  },
  {
   "cell_type": "code",
   "execution_count": 6,
   "id": "319b5693",
   "metadata": {},
   "outputs": [
    {
     "data": {
      "text/plain": [
       "{'name': ['abc', 'xyz', 'qwe', 'rty'],\n",
       " 'marks': (34, 45, 67, 89),\n",
       " 'age': (12, 56, 23, 45)}"
      ]
     },
     "execution_count": 6,
     "metadata": {},
     "output_type": "execute_result"
    }
   ],
   "source": [
    "a"
   ]
  },
  {
   "cell_type": "code",
   "execution_count": 7,
   "id": "552f1a01",
   "metadata": {},
   "outputs": [
    {
     "data": {
      "text/plain": [
       "'xyz'"
      ]
     },
     "execution_count": 7,
     "metadata": {},
     "output_type": "execute_result"
    }
   ],
   "source": [
    "#dict ----> no index\n",
    "a['name'][1]"
   ]
  },
  {
   "cell_type": "code",
   "execution_count": 8,
   "id": "3c0759ed",
   "metadata": {},
   "outputs": [
    {
     "data": {
      "text/plain": [
       "{'name': ['abc', 'xyz', 'qwe', 'rty'],\n",
       " 'marks': (34, 45, 67, 89),\n",
       " 'age': (12, 56, 23, 45)}"
      ]
     },
     "execution_count": 8,
     "metadata": {},
     "output_type": "execute_result"
    }
   ],
   "source": [
    "#muttable or not ??\n",
    "a"
   ]
  },
  {
   "cell_type": "code",
   "execution_count": 9,
   "id": "8672d4fb",
   "metadata": {},
   "outputs": [],
   "source": [
    "a['name']=['devil','asd','cvb']"
   ]
  },
  {
   "cell_type": "code",
   "execution_count": 10,
   "id": "82b0bdd4",
   "metadata": {},
   "outputs": [
    {
     "data": {
      "text/plain": [
       "{'name': ['devil', 'asd', 'cvb'],\n",
       " 'marks': (34, 45, 67, 89),\n",
       " 'age': (12, 56, 23, 45)}"
      ]
     },
     "execution_count": 10,
     "metadata": {},
     "output_type": "execute_result"
    }
   ],
   "source": [
    "a"
   ]
  },
  {
   "cell_type": "code",
   "execution_count": 11,
   "id": "95df06ce",
   "metadata": {},
   "outputs": [],
   "source": [
    "a['name'][0]='angel'"
   ]
  },
  {
   "cell_type": "code",
   "execution_count": 12,
   "id": "37c036c2",
   "metadata": {},
   "outputs": [
    {
     "data": {
      "text/plain": [
       "{'name': ['angel', 'asd', 'cvb'],\n",
       " 'marks': (34, 45, 67, 89),\n",
       " 'age': (12, 56, 23, 45)}"
      ]
     },
     "execution_count": 12,
     "metadata": {},
     "output_type": "execute_result"
    }
   ],
   "source": [
    "a"
   ]
  },
  {
   "cell_type": "code",
   "execution_count": 13,
   "id": "f832d677",
   "metadata": {},
   "outputs": [],
   "source": [
    "a['marks']=100"
   ]
  },
  {
   "cell_type": "code",
   "execution_count": 14,
   "id": "7a73dedf",
   "metadata": {},
   "outputs": [
    {
     "data": {
      "text/plain": [
       "{'name': ['angel', 'asd', 'cvb'], 'marks': 100, 'age': (12, 56, 23, 45)}"
      ]
     },
     "execution_count": 14,
     "metadata": {},
     "output_type": "execute_result"
    }
   ],
   "source": [
    "a"
   ]
  },
  {
   "cell_type": "code",
   "execution_count": 15,
   "id": "07ab27d1",
   "metadata": {},
   "outputs": [],
   "source": [
    "x={'name': ['abc', 'xyz', 'qwe', 'rty'],\n",
    " 'marks': (34, 45, 67, 89),\n",
    " 'age': (12, 56, 23, 45)\n",
    "  }"
   ]
  },
  {
   "cell_type": "code",
   "execution_count": 16,
   "id": "d9322556",
   "metadata": {},
   "outputs": [
    {
     "ename": "TypeError",
     "evalue": "'tuple' object does not support item assignment",
     "output_type": "error",
     "traceback": [
      "\u001b[1;31m---------------------------------------------------------------------------\u001b[0m",
      "\u001b[1;31mTypeError\u001b[0m                                 Traceback (most recent call last)",
      "\u001b[1;32m~\\AppData\\Local\\Temp/ipykernel_2424/3193576923.py\u001b[0m in \u001b[0;36m<module>\u001b[1;34m\u001b[0m\n\u001b[1;32m----> 1\u001b[1;33m \u001b[0mx\u001b[0m\u001b[1;33m[\u001b[0m\u001b[1;34m'marks'\u001b[0m\u001b[1;33m]\u001b[0m\u001b[1;33m[\u001b[0m\u001b[1;36m0\u001b[0m\u001b[1;33m]\u001b[0m\u001b[1;33m=\u001b[0m\u001b[1;36m100\u001b[0m\u001b[1;33m\u001b[0m\u001b[1;33m\u001b[0m\u001b[0m\n\u001b[0m",
      "\u001b[1;31mTypeError\u001b[0m: 'tuple' object does not support item assignment"
     ]
    }
   ],
   "source": [
    "x['marks'][0]=100"
   ]
  },
  {
   "cell_type": "code",
   "execution_count": null,
   "id": "89b265a1",
   "metadata": {},
   "outputs": [],
   "source": [
    "a = {\n",
    "    'name': ['abc', 'xyz', 'qwe', 'rty'],\n",
    "     'marks': (34, 45, 67, 89),\n",
    "     'age': (12, 56, 23, 45)\n",
    "    \n",
    "}"
   ]
  },
  {
   "cell_type": "code",
   "execution_count": null,
   "id": "a2defa53",
   "metadata": {},
   "outputs": [],
   "source": [
    "a"
   ]
  },
  {
   "cell_type": "code",
   "execution_count": null,
   "id": "74654fc8",
   "metadata": {},
   "outputs": [],
   "source": [
    "a={'name': ['angel', 'asd', 'cvd'],\n",
    " 'marks': (34, 45, 67, 89),\n",
    "'age': (12, 56, 23, 45)},\n",
    "\n",
    "{'name': ['angel', 'xyz', 'qwe', 'rty'],\n",
    " 'marks': (4,6,8,3),\n",
    " 'age': (14,5,8,3)}\n"
   ]
  },
  {
   "cell_type": "code",
   "execution_count": null,
   "id": "54a24bf5",
   "metadata": {},
   "outputs": [],
   "source": [
    "a"
   ]
  },
  {
   "cell_type": "code",
   "execution_count": null,
   "id": "015a7ca9",
   "metadata": {},
   "outputs": [],
   "source": [
    "a = {\n",
    "    'name': ['abc', 'xyz', 'qwe', 'rty'],\n",
    "     'marks': (34, 45, 67, 89),\n",
    "     'age': (12, 56, 23, 45),\n",
    "    'b':{\n",
    "        'age':34,\n",
    "        'name':['asd','xyz']\n",
    "    }\n",
    "    \n",
    "}"
   ]
  },
  {
   "cell_type": "code",
   "execution_count": null,
   "id": "95cf9a34",
   "metadata": {},
   "outputs": [],
   "source": [
    "a"
   ]
  },
  {
   "cell_type": "code",
   "execution_count": null,
   "id": "bba9800b",
   "metadata": {},
   "outputs": [],
   "source": [
    "a['b']['name'][1]"
   ]
  },
  {
   "cell_type": "code",
   "execution_count": null,
   "id": "51b48265",
   "metadata": {},
   "outputs": [],
   "source": [
    "a = {\n",
    "    'name': ['abc', 'xyz', 'qwe', 'rty'],\n",
    "     'marks': (34, 45, 67, 89),\n",
    "     'age': (12, 56, 23, 45),\n",
    "   ' b':{\n",
    "        'age':34,\n",
    "        'name':['asd','xyz'],\n",
    "        0:1,\n",
    "        0:'1'\n",
    "    }\n",
    "    \n",
    "}"
   ]
  },
  {
   "cell_type": "code",
   "execution_count": null,
   "id": "58b9f0f4",
   "metadata": {},
   "outputs": [],
   "source": [
    "b={\n",
    "        'age':34,\n",
    "        'name':['asd','xyz'],\n",
    "        100:1,\n",
    "        0:'1',\n",
    "    1:'yes',\n",
    "    '0':'True'\n",
    "    }\n",
    "    "
   ]
  },
  {
   "cell_type": "code",
   "execution_count": null,
   "id": "87de9c87",
   "metadata": {},
   "outputs": [],
   "source": [
    "b"
   ]
  },
  {
   "cell_type": "code",
   "execution_count": null,
   "id": "8a914c3e",
   "metadata": {},
   "outputs": [],
   "source": [
    "b[100]"
   ]
  },
  {
   "cell_type": "code",
   "execution_count": null,
   "id": "b4d49161",
   "metadata": {},
   "outputs": [],
   "source": [
    "b={\n",
    "        'age':34,\n",
    "        'name':['asd','xyz'],\n",
    "        0:100,\n",
    "        0:'1',\n",
    "    1:'yes',\n",
    "    '0':'True'\n",
    "    }\n",
    "b\n",
    "    "
   ]
  },
  {
   "cell_type": "code",
   "execution_count": null,
   "id": "b6c94373",
   "metadata": {},
   "outputs": [],
   "source": [
    "b[0]"
   ]
  },
  {
   "cell_type": "code",
   "execution_count": null,
   "id": "e6b17ae5",
   "metadata": {},
   "outputs": [],
   "source": [
    "#wap to make a dict of emp. and ask the monthly salary and give\n",
    "# the o/p as annual income of a person/emp.\n",
    "\n",
    "#wap to find the avg marks of a student in different subject\n",
    "# using dic.\n",
    "\n",
    "# wap to sum 5 numbers in a list.\n",
    "# a=[1,2,3,4,5]\n",
    "\n",
    "emp = {\n",
    "    'name':'abc',\n",
    "    'm_salary':20000,\n",
    "    'age':23\n",
    "}\n",
    "emp"
   ]
  },
  {
   "cell_type": "code",
   "execution_count": null,
   "id": "7b0d418a",
   "metadata": {},
   "outputs": [],
   "source": [
    "a_salary = emp['m_salary']*12"
   ]
  },
  {
   "cell_type": "code",
   "execution_count": null,
   "id": "0be043e2",
   "metadata": {},
   "outputs": [],
   "source": [
    "a_salary"
   ]
  },
  {
   "cell_type": "code",
   "execution_count": null,
   "id": "dff270f9",
   "metadata": {},
   "outputs": [],
   "source": [
    "student= {\n",
    "    'marks':(25,50,41)\n",
    "}\n",
    "total_marks = student['marks'][:] \n",
    "avg_marks = (total_marks[0]+total_marks[1]+total_marks[2])/3\n"
   ]
  },
  {
   "cell_type": "code",
   "execution_count": null,
   "id": "8d9243db",
   "metadata": {},
   "outputs": [],
   "source": [
    "avg_marks"
   ]
  },
  {
   "cell_type": "code",
   "execution_count": null,
   "id": "fafd59ed",
   "metadata": {},
   "outputs": [],
   "source": [
    "a=[1,2,3,4,5]\n",
    "b=a[0]+a[1]+a[2]+a[3]+a[4]\n",
    "print(b)\n"
   ]
  },
  {
   "cell_type": "code",
   "execution_count": null,
   "id": "b8454644",
   "metadata": {},
   "outputs": [],
   "source": [
    "a=[1,2,3,4,5]\n",
    "add = sum(a)\n",
    "print(add)"
   ]
  },
  {
   "cell_type": "code",
   "execution_count": null,
   "id": "e2434217",
   "metadata": {},
   "outputs": [],
   "source": [
    "#loop\n",
    "a=[1,2,3,4,5]\n",
    "total = 0\n",
    "for i in range(0,len(a)):\n",
    "    total=total+a[i]\n",
    "print(total)"
   ]
  },
  {
   "cell_type": "code",
   "execution_count": null,
   "id": "06532f77",
   "metadata": {},
   "outputs": [],
   "source": [
    "x = [10,20,30,40,89,67]\n",
    "total =0\n",
    "for i in range(0,len(x)):\n",
    "    total=total+x[i]\n",
    "print(total)"
   ]
  },
  {
   "cell_type": "code",
   "execution_count": null,
   "id": "3b0ad571",
   "metadata": {},
   "outputs": [],
   "source": [
    "len(x)"
   ]
  },
  {
   "cell_type": "code",
   "execution_count": null,
   "id": "bd3b3c8c",
   "metadata": {},
   "outputs": [],
   "source": [
    "#wap and add 5 number in a list!!\n",
    "item=['python','java','ai','js']\n",
    "for i in item:\n",
    "    if i==item:\n",
    "        print('yes')\n",
    "    else:\n",
    "        print('no')\n",
    "    \n"
   ]
  },
  {
   "cell_type": "code",
   "execution_count": 23,
   "id": "5d9fe9c6",
   "metadata": {},
   "outputs": [
    {
     "name": "stdout",
     "output_type": "stream",
     "text": [
      "Enter the subjectpython\n",
      "yes\n"
     ]
    }
   ],
   "source": [
    "i=input(\"Enter the subject\")\n",
    "if i=='python':\n",
    "    print('yes')\n",
    "elif i == 'java':\n",
    "    print('yes')\n",
    "elif i == 'ai':\n",
    "    print('yes')\n",
    "else:\n",
    "    print('no')\n"
   ]
  },
  {
   "cell_type": "code",
   "execution_count": 24,
   "id": "1c317d60",
   "metadata": {},
   "outputs": [
    {
     "data": {
      "text/plain": [
       "{'name': 'abc', 'm_salary': 20000, 'age': 23}"
      ]
     },
     "execution_count": 24,
     "metadata": {},
     "output_type": "execute_result"
    }
   ],
   "source": [
    "emp = {\n",
    "    'name':'abc',\n",
    "    'm_salary':20000,\n",
    "    'age':23\n",
    "}\n",
    "emp"
   ]
  },
  {
   "cell_type": "code",
   "execution_count": 25,
   "id": "42fcf950",
   "metadata": {},
   "outputs": [
    {
     "data": {
      "text/plain": [
       "dict"
      ]
     },
     "execution_count": 25,
     "metadata": {},
     "output_type": "execute_result"
    }
   ],
   "source": [
    "type(emp)"
   ]
  },
  {
   "cell_type": "code",
   "execution_count": 27,
   "id": "ac52b90e",
   "metadata": {},
   "outputs": [
    {
     "data": {
      "text/plain": [
       "dict_keys(['name', 'm_salary', 'age'])"
      ]
     },
     "execution_count": 27,
     "metadata": {},
     "output_type": "execute_result"
    }
   ],
   "source": [
    "#method -----> key,values,items\n",
    "emp.keys()"
   ]
  },
  {
   "cell_type": "code",
   "execution_count": 28,
   "id": "20f4fbb0",
   "metadata": {},
   "outputs": [
    {
     "data": {
      "text/plain": [
       "dict_values(['abc', 20000, 23])"
      ]
     },
     "execution_count": 28,
     "metadata": {},
     "output_type": "execute_result"
    }
   ],
   "source": [
    "#value\n",
    "emp.values()"
   ]
  },
  {
   "cell_type": "code",
   "execution_count": 29,
   "id": "7a23e452",
   "metadata": {},
   "outputs": [
    {
     "data": {
      "text/plain": [
       "dict_items([('name', 'abc'), ('m_salary', 20000), ('age', 23)])"
      ]
     },
     "execution_count": 29,
     "metadata": {},
     "output_type": "execute_result"
    }
   ],
   "source": [
    "#items\n",
    "emp.items()"
   ]
  },
  {
   "cell_type": "code",
   "execution_count": 30,
   "id": "7e2fc2ab",
   "metadata": {},
   "outputs": [
    {
     "data": {
      "text/plain": [
       "{0: 23}"
      ]
     },
     "execution_count": 30,
     "metadata": {},
     "output_type": "execute_result"
    }
   ],
   "source": [
    "#dict----> single element dict.\n",
    "# dict----> empty dict.\n",
    "\n",
    "# single element---->\n",
    "a = {\n",
    "    0:23\n",
    "}\n",
    "a"
   ]
  },
  {
   "cell_type": "code",
   "execution_count": 31,
   "id": "e2cf8c81",
   "metadata": {},
   "outputs": [
    {
     "data": {
      "text/plain": [
       "dict"
      ]
     },
     "execution_count": 31,
     "metadata": {},
     "output_type": "execute_result"
    }
   ],
   "source": [
    "type(a)"
   ]
  },
  {
   "cell_type": "code",
   "execution_count": 32,
   "id": "ebaddfdf",
   "metadata": {},
   "outputs": [
    {
     "data": {
      "text/plain": [
       "{}"
      ]
     },
     "execution_count": 32,
     "metadata": {},
     "output_type": "execute_result"
    }
   ],
   "source": [
    "#empty dict\n",
    "x = {}\n",
    "x"
   ]
  },
  {
   "cell_type": "code",
   "execution_count": 33,
   "id": "ff536e6e",
   "metadata": {},
   "outputs": [
    {
     "data": {
      "text/plain": [
       "dict"
      ]
     },
     "execution_count": 33,
     "metadata": {},
     "output_type": "execute_result"
    }
   ],
   "source": [
    "type(x)"
   ]
  },
  {
   "cell_type": "code",
   "execution_count": null,
   "id": "a0a0e36b",
   "metadata": {},
   "outputs": [],
   "source": []
  }
 ],
 "metadata": {
  "kernelspec": {
   "display_name": "Python 3 (ipykernel)",
   "language": "python",
   "name": "python3"
  },
  "language_info": {
   "codemirror_mode": {
    "name": "ipython",
    "version": 3
   },
   "file_extension": ".py",
   "mimetype": "text/x-python",
   "name": "python",
   "nbconvert_exporter": "python",
   "pygments_lexer": "ipython3",
   "version": "3.9.7"
  }
 },
 "nbformat": 4,
 "nbformat_minor": 5
}
