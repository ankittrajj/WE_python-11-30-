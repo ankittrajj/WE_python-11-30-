{
 "cells": [
  {
   "cell_type": "code",
   "execution_count": 8,
   "id": "382cd3b2",
   "metadata": {},
   "outputs": [
    {
     "name": "stdout",
     "output_type": "stream",
     "text": [
      "hello pajji!!\n"
     ]
    }
   ],
   "source": [
    "class greet:\n",
    "    def fun(self):\n",
    "        print(\"hello pajji!!\")\n",
    "        \n",
    "g = greet()\n",
    "g.fun()\n"
   ]
  },
  {
   "cell_type": "code",
   "execution_count": 9,
   "id": "0b1bad7a",
   "metadata": {},
   "outputs": [
    {
     "data": {
      "text/plain": [
       "3"
      ]
     },
     "execution_count": 9,
     "metadata": {},
     "output_type": "execute_result"
    }
   ],
   "source": [
    "# Wap to add two numbers with oops.\n",
    "\n",
    "class add:\n",
    "    def fun(self,x,y):\n",
    "        result = x+y\n",
    "        return result\n",
    "a = add()\n",
    "a.fun(1,2)"
   ]
  },
  {
   "cell_type": "code",
   "execution_count": 10,
   "id": "86dfcc17",
   "metadata": {},
   "outputs": [
    {
     "data": {
      "text/plain": [
       "60"
      ]
     },
     "execution_count": 10,
     "metadata": {},
     "output_type": "execute_result"
    }
   ],
   "source": [
    "a.fun(4,56)"
   ]
  },
  {
   "cell_type": "code",
   "execution_count": 11,
   "id": "12b839fd",
   "metadata": {},
   "outputs": [
    {
     "name": "stdout",
     "output_type": "stream",
     "text": [
      "11200.0\n"
     ]
    }
   ],
   "source": [
    "#wap to find to find the sal of emp\n",
    "# 1 . if emp takes more than 5 leave then\n",
    "# there is a deduction of 5% and \n",
    "# 2 if there is less number of leaves\n",
    "# than 5 then 12 % bonus will be given.\n",
    "# Find the exact sal of the emp using oops.\n",
    "\n",
    "class emp:\n",
    "    def fun(self,sal,leave):\n",
    "        if leave>5:\n",
    "            ded = (sal*5)/100\n",
    "            total_sal = sal - ded\n",
    "            print(total_sal)\n",
    "\n",
    "        else:\n",
    "            bonus = (sal*12)/100\n",
    "            bonus_sal = sal +bonus\n",
    "            print(bonus_sal)\n",
    "            \n",
    "e = emp()\n",
    "e.fun(10000,3)"
   ]
  },
  {
   "cell_type": "code",
   "execution_count": 12,
   "id": "b8c2f9f2",
   "metadata": {},
   "outputs": [
    {
     "name": "stdout",
     "output_type": "stream",
     "text": [
      "22400.0\n"
     ]
    }
   ],
   "source": [
    "e.fun(20000,5)"
   ]
  },
  {
   "cell_type": "code",
   "execution_count": 13,
   "id": "a1464cb1",
   "metadata": {},
   "outputs": [
    {
     "name": "stdout",
     "output_type": "stream",
     "text": [
      "32300.0\n"
     ]
    }
   ],
   "source": [
    "e.fun(34000,12)"
   ]
  },
  {
   "cell_type": "code",
   "execution_count": null,
   "id": "bfb5df1c",
   "metadata": {},
   "outputs": [],
   "source": []
  }
 ],
 "metadata": {
  "kernelspec": {
   "display_name": "Python 3 (ipykernel)",
   "language": "python",
   "name": "python3"
  },
  "language_info": {
   "codemirror_mode": {
    "name": "ipython",
    "version": 3
   },
   "file_extension": ".py",
   "mimetype": "text/x-python",
   "name": "python",
   "nbconvert_exporter": "python",
   "pygments_lexer": "ipython3",
   "version": "3.9.7"
  }
 },
 "nbformat": 4,
 "nbformat_minor": 5
}
