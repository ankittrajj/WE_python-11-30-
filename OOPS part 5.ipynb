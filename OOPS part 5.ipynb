{
 "cells": [
  {
   "cell_type": "code",
   "execution_count": 8,
   "id": "fa4bbc82",
   "metadata": {},
   "outputs": [
    {
     "name": "stdout",
     "output_type": "stream",
     "text": [
      "41\n"
     ]
    }
   ],
   "source": [
    "class number:\n",
    "    def __init__(self,num):\n",
    "        self.num=num\n",
    "    def multiple_or_not(self):\n",
    "        if self.num %5== 0:\n",
    "            print(\"fizz\")\n",
    "        elif self.num %5!= 0:\n",
    "             print(self.num)\n",
    "n=number(41)\n",
    "n.multiple_or_not()\n"
   ]
  },
  {
   "cell_type": "code",
   "execution_count": 12,
   "id": "e9806cfe",
   "metadata": {},
   "outputs": [
    {
     "name": "stdout",
     "output_type": "stream",
     "text": [
      "not fizz\n"
     ]
    }
   ],
   "source": [
    "class num:\n",
    "    def mul(self,a):\n",
    "        if a % 5 == 0:print('Fizz')\n",
    "        else:print('not fizz')\n",
    "            \n",
    "n = num()\n",
    "n.mul(13)"
   ]
  },
  {
   "cell_type": "code",
   "execution_count": 13,
   "id": "313ce92c",
   "metadata": {},
   "outputs": [
    {
     "name": "stdout",
     "output_type": "stream",
     "text": [
      "hello\n"
     ]
    }
   ],
   "source": [
    "#encapsulation-----> wrapping up of your code.\n",
    "# public , private , protected-----> Access Specifiers.\n",
    "# public mode\n",
    "class me:\n",
    "    def m (self):\n",
    "        print(\"hello\")\n",
    "        \n",
    "m = me()\n",
    "m.m()"
   ]
  },
  {
   "cell_type": "code",
   "execution_count": 15,
   "id": "7e73be78",
   "metadata": {},
   "outputs": [
    {
     "ename": "AttributeError",
     "evalue": "'me' object has no attribute 'm'",
     "output_type": "error",
     "traceback": [
      "\u001b[1;31m---------------------------------------------------------------------------\u001b[0m",
      "\u001b[1;31mAttributeError\u001b[0m                            Traceback (most recent call last)",
      "\u001b[1;32m~\\AppData\\Local\\Temp/ipykernel_6032/275060739.py\u001b[0m in \u001b[0;36m<module>\u001b[1;34m\u001b[0m\n\u001b[0;32m      7\u001b[0m \u001b[1;33m\u001b[0m\u001b[0m\n\u001b[0;32m      8\u001b[0m \u001b[0mm\u001b[0m \u001b[1;33m=\u001b[0m \u001b[0mme\u001b[0m\u001b[1;33m(\u001b[0m\u001b[1;33m)\u001b[0m\u001b[1;33m\u001b[0m\u001b[1;33m\u001b[0m\u001b[0m\n\u001b[1;32m----> 9\u001b[1;33m \u001b[0mm\u001b[0m\u001b[1;33m.\u001b[0m\u001b[0mm\u001b[0m\u001b[1;33m(\u001b[0m\u001b[1;33m)\u001b[0m\u001b[1;33m\u001b[0m\u001b[1;33m\u001b[0m\u001b[0m\n\u001b[0m\u001b[0;32m     10\u001b[0m \u001b[0mm\u001b[0m\u001b[1;33m.\u001b[0m\u001b[0mu\u001b[0m\u001b[1;33m(\u001b[0m\u001b[1;33m)\u001b[0m\u001b[1;33m\u001b[0m\u001b[1;33m\u001b[0m\u001b[0m\n",
      "\u001b[1;31mAttributeError\u001b[0m: 'me' object has no attribute 'm'"
     ]
    }
   ],
   "source": [
    "class me:\n",
    "    def __m (self):\n",
    "        print(\"hello\")\n",
    "        \n",
    "    def u(self):\n",
    "        print(\"hello u\")\n",
    "        \n",
    "m = me()\n",
    "m.m()\n",
    "m.u()"
   ]
  },
  {
   "cell_type": "code",
   "execution_count": 16,
   "id": "ab3b48f7",
   "metadata": {},
   "outputs": [
    {
     "name": "stdout",
     "output_type": "stream",
     "text": [
      "hello u\n"
     ]
    }
   ],
   "source": [
    "m.u()"
   ]
  },
  {
   "cell_type": "code",
   "execution_count": 22,
   "id": "6d32adfc",
   "metadata": {},
   "outputs": [
    {
     "ename": "AttributeError",
     "evalue": "'num' object has no attribute 'add'",
     "output_type": "error",
     "traceback": [
      "\u001b[1;31m---------------------------------------------------------------------------\u001b[0m",
      "\u001b[1;31mAttributeError\u001b[0m                            Traceback (most recent call last)",
      "\u001b[1;32m~\\AppData\\Local\\Temp/ipykernel_6032/3308310714.py\u001b[0m in \u001b[0;36m<module>\u001b[1;34m\u001b[0m\n\u001b[0;32m     11\u001b[0m         \u001b[0mprint\u001b[0m\u001b[1;33m(\u001b[0m\u001b[0ma\u001b[0m\u001b[1;33m-\u001b[0m\u001b[0mb\u001b[0m\u001b[1;33m)\u001b[0m\u001b[1;33m\u001b[0m\u001b[1;33m\u001b[0m\u001b[0m\n\u001b[0;32m     12\u001b[0m \u001b[0mn\u001b[0m\u001b[1;33m=\u001b[0m\u001b[0mnum\u001b[0m\u001b[1;33m(\u001b[0m\u001b[1;33m)\u001b[0m\u001b[1;33m\u001b[0m\u001b[1;33m\u001b[0m\u001b[0m\n\u001b[1;32m---> 13\u001b[1;33m \u001b[0mn\u001b[0m\u001b[1;33m.\u001b[0m\u001b[0madd\u001b[0m\u001b[1;33m(\u001b[0m\u001b[1;33m)\u001b[0m\u001b[1;33m\u001b[0m\u001b[1;33m\u001b[0m\u001b[0m\n\u001b[0m\u001b[0;32m     14\u001b[0m \u001b[1;31m# n.sub()\u001b[0m\u001b[1;33m\u001b[0m\u001b[1;33m\u001b[0m\u001b[0m\n",
      "\u001b[1;31mAttributeError\u001b[0m: 'num' object has no attribute 'add'"
     ]
    }
   ],
   "source": [
    "#wap and add two numbers with class object & attributes.\n",
    "class num:\n",
    "    def __add(self):\n",
    "        a=50\n",
    "        b=60\n",
    "        print(a+b)\n",
    "        \n",
    "    def __sub(self):\n",
    "        a=50\n",
    "        b=60\n",
    "        print(a-b)\n",
    "n=num()\n",
    "n.add()\n",
    "# n.sub()\n"
   ]
  },
  {
   "cell_type": "code",
   "execution_count": 23,
   "id": "fb08d415",
   "metadata": {},
   "outputs": [
    {
     "ename": "AttributeError",
     "evalue": "'num' object has no attribute 'sub'",
     "output_type": "error",
     "traceback": [
      "\u001b[1;31m---------------------------------------------------------------------------\u001b[0m",
      "\u001b[1;31mAttributeError\u001b[0m                            Traceback (most recent call last)",
      "\u001b[1;32m~\\AppData\\Local\\Temp/ipykernel_6032/3367800432.py\u001b[0m in \u001b[0;36m<module>\u001b[1;34m\u001b[0m\n\u001b[1;32m----> 1\u001b[1;33m \u001b[0mn\u001b[0m\u001b[1;33m.\u001b[0m\u001b[0msub\u001b[0m\u001b[1;33m(\u001b[0m\u001b[1;33m)\u001b[0m\u001b[1;33m\u001b[0m\u001b[1;33m\u001b[0m\u001b[0m\n\u001b[0m",
      "\u001b[1;31mAttributeError\u001b[0m: 'num' object has no attribute 'sub'"
     ]
    }
   ],
   "source": [
    "n.sub()"
   ]
  },
  {
   "cell_type": "code",
   "execution_count": 26,
   "id": "680b83cf",
   "metadata": {},
   "outputs": [
    {
     "name": "stdout",
     "output_type": "stream",
     "text": [
      "18\n"
     ]
    }
   ],
   "source": [
    "#wap to add three numbers with the help of class and object while making\n",
    "# function\n",
    "# and try to make any one number/variable to private.\n",
    "\n",
    "class num:\n",
    "    def add(self):\n",
    "        __a=5\n",
    "        b=6\n",
    "        c=7\n",
    "        print(__a+b+c)\n",
    "n=num()\n",
    "n.add()\n"
   ]
  },
  {
   "cell_type": "code",
   "execution_count": 29,
   "id": "fee81634",
   "metadata": {},
   "outputs": [
    {
     "ename": "AttributeError",
     "evalue": "'hello' object has no attribute '__me2'",
     "output_type": "error",
     "traceback": [
      "\u001b[1;31m---------------------------------------------------------------------------\u001b[0m",
      "\u001b[1;31mAttributeError\u001b[0m                            Traceback (most recent call last)",
      "\u001b[1;32m~\\AppData\\Local\\Temp/ipykernel_6032/2525874984.py\u001b[0m in \u001b[0;36m<module>\u001b[1;34m\u001b[0m\n\u001b[0;32m      8\u001b[0m \u001b[1;33m\u001b[0m\u001b[0m\n\u001b[0;32m      9\u001b[0m \u001b[0mh\u001b[0m \u001b[1;33m=\u001b[0m \u001b[0mhello\u001b[0m\u001b[1;33m(\u001b[0m\u001b[1;33m)\u001b[0m\u001b[1;33m\u001b[0m\u001b[1;33m\u001b[0m\u001b[0m\n\u001b[1;32m---> 10\u001b[1;33m \u001b[0mh\u001b[0m\u001b[1;33m.\u001b[0m\u001b[0m__me2\u001b[0m\u001b[1;33m(\u001b[0m\u001b[1;33m)\u001b[0m\u001b[1;33m\u001b[0m\u001b[1;33m\u001b[0m\u001b[0m\n\u001b[0m",
      "\u001b[1;31mAttributeError\u001b[0m: 'hello' object has no attribute '__me2'"
     ]
    }
   ],
   "source": [
    "class hello:\n",
    "    def me(self):\n",
    "        print(\"this is public in class\")\n",
    "    def _me1(self):\n",
    "        print(\"This is protected in class\")\n",
    "    def __me2(self):\n",
    "        print(\"This is private in class\")\n",
    "        \n",
    "h = hello()\n",
    "h.__me2()"
   ]
  },
  {
   "cell_type": "code",
   "execution_count": 31,
   "id": "3adea015",
   "metadata": {},
   "outputs": [
    {
     "name": "stdout",
     "output_type": "stream",
     "text": [
      "This is protected in class\n"
     ]
    }
   ],
   "source": [
    "h._me1()"
   ]
  },
  {
   "cell_type": "code",
   "execution_count": 34,
   "id": "f07bd8f0",
   "metadata": {},
   "outputs": [
    {
     "name": "stdout",
     "output_type": "stream",
     "text": [
      "19\n"
     ]
    }
   ],
   "source": [
    "#wap to make a class and object of a student and try to get the exact marks in \n",
    "# maths , now the student is failed in maths so he want to hide the marks of \n",
    "# maths from his  parent but now your task is to calculate the total marks\n",
    "# of the sstudent who is hiding his marks.\n",
    "\n",
    "class marks:\n",
    "    def total_marks(self):\n",
    "        e = 10\n",
    "        h = 9\n",
    "        _m = 0\n",
    "        total = e+h+_m\n",
    "        print(total)\n",
    "        \n",
    "x = marks()\n",
    "x.total_marks()"
   ]
  },
  {
   "cell_type": "code",
   "execution_count": 35,
   "id": "aace4fa1",
   "metadata": {},
   "outputs": [
    {
     "name": "stdout",
     "output_type": "stream",
     "text": [
      "7\n"
     ]
    }
   ],
   "source": [
    "#wap to hide the function as well as variable of the class that is stored\n",
    "# as an attribute & properties and also try to perform inheritance.\n",
    "class _m:\n",
    "    def __init__(self,a):\n",
    "        self.a=a\n",
    "class _n(_m):\n",
    "    def __init__(self,a,b):\n",
    "        super().__init__(a)\n",
    "        self.b=b\n",
    "    def _add(self):\n",
    "        add=self.a+self.b\n",
    "        print(add)\n",
    "s=_n(4,3)\n",
    "s._add()\n"
   ]
  },
  {
   "cell_type": "code",
   "execution_count": null,
   "id": "9e294f12",
   "metadata": {},
   "outputs": [],
   "source": []
  }
 ],
 "metadata": {
  "kernelspec": {
   "display_name": "Python 3 (ipykernel)",
   "language": "python",
   "name": "python3"
  },
  "language_info": {
   "codemirror_mode": {
    "name": "ipython",
    "version": 3
   },
   "file_extension": ".py",
   "mimetype": "text/x-python",
   "name": "python",
   "nbconvert_exporter": "python",
   "pygments_lexer": "ipython3",
   "version": "3.9.7"
  }
 },
 "nbformat": 4,
 "nbformat_minor": 5
}
